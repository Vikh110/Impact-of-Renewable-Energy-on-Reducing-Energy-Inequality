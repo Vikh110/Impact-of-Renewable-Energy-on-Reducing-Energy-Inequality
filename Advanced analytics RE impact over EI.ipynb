{
 "cells": [
  {
   "cell_type": "code",
   "execution_count": 1,
   "id": "4a866c3e",
   "metadata": {},
   "outputs": [],
   "source": [
    "import pandas as pd\n",
    "import numpy as np\n",
    "import seaborn as sns\n",
    "import matplotlib.pyplot as plt\n",
    "\n",
    "import warnings\n",
    "warnings.filterwarnings(\"ignore\")"
   ]
  },
  {
   "cell_type": "code",
   "execution_count": null,
   "id": "ffc263a5-da4b-4719-ad87-df469c7363ef",
   "metadata": {},
   "outputs": [],
   "source": []
  },
  {
   "cell_type": "code",
   "execution_count": null,
   "id": "1a923e4e-b7da-48af-9158-91dbecd4e729",
   "metadata": {},
   "outputs": [],
   "source": []
  },
  {
   "cell_type": "code",
   "execution_count": null,
   "id": "abcec193",
   "metadata": {},
   "outputs": [],
   "source": []
  },
  {
   "cell_type": "code",
   "execution_count": 2,
   "id": "16542db5",
   "metadata": {},
   "outputs": [],
   "source": [
    "final_df = pd.read_csv(r'C:\\Users\\vishw\\Desktop\\DATASET\\Cleaned_final_dataset.csv')"
   ]
  },
  {
   "cell_type": "code",
   "execution_count": 3,
   "id": "0f65a1e6",
   "metadata": {},
   "outputs": [
    {
     "data": {
      "text/html": [
       "<div>\n",
       "<style scoped>\n",
       "    .dataframe tbody tr th:only-of-type {\n",
       "        vertical-align: middle;\n",
       "    }\n",
       "\n",
       "    .dataframe tbody tr th {\n",
       "        vertical-align: top;\n",
       "    }\n",
       "\n",
       "    .dataframe thead th {\n",
       "        text-align: right;\n",
       "    }\n",
       "</style>\n",
       "<table border=\"1\" class=\"dataframe\">\n",
       "  <thead>\n",
       "    <tr style=\"text-align: right;\">\n",
       "      <th></th>\n",
       "      <th>Region</th>\n",
       "      <th>Year</th>\n",
       "      <th>Electricity_Access_Percentage</th>\n",
       "      <th>Area_Type</th>\n",
       "      <th>Financial_Flows_Clean_Energy_USD</th>\n",
       "      <th>Renewable_Technology_Type</th>\n",
       "      <th>Renewable_Capacity_Per_Capita_Watts</th>\n",
       "      <th>Renewable_Share_in_TFEC_Percentage</th>\n",
       "    </tr>\n",
       "  </thead>\n",
       "  <tbody>\n",
       "    <tr>\n",
       "      <th>0</th>\n",
       "      <td>China</td>\n",
       "      <td>2010</td>\n",
       "      <td>99.7</td>\n",
       "      <td>Allarea</td>\n",
       "      <td>143.76</td>\n",
       "      <td>ALL</td>\n",
       "      <td>173.01473</td>\n",
       "      <td>12.26</td>\n",
       "    </tr>\n",
       "    <tr>\n",
       "      <th>1</th>\n",
       "      <td>China</td>\n",
       "      <td>2010</td>\n",
       "      <td>99.4</td>\n",
       "      <td>Rural</td>\n",
       "      <td>143.76</td>\n",
       "      <td>ALL</td>\n",
       "      <td>173.01473</td>\n",
       "      <td>12.26</td>\n",
       "    </tr>\n",
       "    <tr>\n",
       "      <th>2</th>\n",
       "      <td>China</td>\n",
       "      <td>2010</td>\n",
       "      <td>100.0</td>\n",
       "      <td>Urban</td>\n",
       "      <td>143.76</td>\n",
       "      <td>ALL</td>\n",
       "      <td>173.01473</td>\n",
       "      <td>12.26</td>\n",
       "    </tr>\n",
       "    <tr>\n",
       "      <th>3</th>\n",
       "      <td>China</td>\n",
       "      <td>2010</td>\n",
       "      <td>99.7</td>\n",
       "      <td>Allarea</td>\n",
       "      <td>71.17</td>\n",
       "      <td>BIOENERGY</td>\n",
       "      <td>2.55631</td>\n",
       "      <td>12.26</td>\n",
       "    </tr>\n",
       "    <tr>\n",
       "      <th>4</th>\n",
       "      <td>China</td>\n",
       "      <td>2010</td>\n",
       "      <td>99.4</td>\n",
       "      <td>Rural</td>\n",
       "      <td>71.17</td>\n",
       "      <td>BIOENERGY</td>\n",
       "      <td>2.55631</td>\n",
       "      <td>12.26</td>\n",
       "    </tr>\n",
       "    <tr>\n",
       "      <th>...</th>\n",
       "      <td>...</td>\n",
       "      <td>...</td>\n",
       "      <td>...</td>\n",
       "      <td>...</td>\n",
       "      <td>...</td>\n",
       "      <td>...</td>\n",
       "      <td>...</td>\n",
       "      <td>...</td>\n",
       "    </tr>\n",
       "    <tr>\n",
       "      <th>2803</th>\n",
       "      <td>World</td>\n",
       "      <td>2022</td>\n",
       "      <td>97.7</td>\n",
       "      <td>Urban</td>\n",
       "      <td>5333.07</td>\n",
       "      <td>SOLAR</td>\n",
       "      <td>133.15360</td>\n",
       "      <td>18.71</td>\n",
       "    </tr>\n",
       "    <tr>\n",
       "      <th>2804</th>\n",
       "      <td>World</td>\n",
       "      <td>2022</td>\n",
       "      <td>84.0</td>\n",
       "      <td>Rural</td>\n",
       "      <td>5333.07</td>\n",
       "      <td>SOLAR</td>\n",
       "      <td>133.15360</td>\n",
       "      <td>18.71</td>\n",
       "    </tr>\n",
       "    <tr>\n",
       "      <th>2805</th>\n",
       "      <td>World</td>\n",
       "      <td>2022</td>\n",
       "      <td>91.4</td>\n",
       "      <td>Allarea</td>\n",
       "      <td>1691.42</td>\n",
       "      <td>WIND</td>\n",
       "      <td>112.73321</td>\n",
       "      <td>18.71</td>\n",
       "    </tr>\n",
       "    <tr>\n",
       "      <th>2806</th>\n",
       "      <td>World</td>\n",
       "      <td>2022</td>\n",
       "      <td>97.7</td>\n",
       "      <td>Urban</td>\n",
       "      <td>1691.42</td>\n",
       "      <td>WIND</td>\n",
       "      <td>112.73321</td>\n",
       "      <td>18.71</td>\n",
       "    </tr>\n",
       "    <tr>\n",
       "      <th>2807</th>\n",
       "      <td>World</td>\n",
       "      <td>2022</td>\n",
       "      <td>84.0</td>\n",
       "      <td>Rural</td>\n",
       "      <td>1691.42</td>\n",
       "      <td>WIND</td>\n",
       "      <td>112.73321</td>\n",
       "      <td>18.71</td>\n",
       "    </tr>\n",
       "  </tbody>\n",
       "</table>\n",
       "<p>2808 rows × 8 columns</p>\n",
       "</div>"
      ],
      "text/plain": [
       "     Region  Year  Electricity_Access_Percentage Area_Type  \\\n",
       "0     China  2010                           99.7   Allarea   \n",
       "1     China  2010                           99.4     Rural   \n",
       "2     China  2010                          100.0     Urban   \n",
       "3     China  2010                           99.7   Allarea   \n",
       "4     China  2010                           99.4     Rural   \n",
       "...     ...   ...                            ...       ...   \n",
       "2803  World  2022                           97.7     Urban   \n",
       "2804  World  2022                           84.0     Rural   \n",
       "2805  World  2022                           91.4   Allarea   \n",
       "2806  World  2022                           97.7     Urban   \n",
       "2807  World  2022                           84.0     Rural   \n",
       "\n",
       "      Financial_Flows_Clean_Energy_USD Renewable_Technology_Type  \\\n",
       "0                               143.76                       ALL   \n",
       "1                               143.76                       ALL   \n",
       "2                               143.76                       ALL   \n",
       "3                                71.17                 BIOENERGY   \n",
       "4                                71.17                 BIOENERGY   \n",
       "...                                ...                       ...   \n",
       "2803                           5333.07                     SOLAR   \n",
       "2804                           5333.07                     SOLAR   \n",
       "2805                           1691.42                      WIND   \n",
       "2806                           1691.42                      WIND   \n",
       "2807                           1691.42                      WIND   \n",
       "\n",
       "      Renewable_Capacity_Per_Capita_Watts  Renewable_Share_in_TFEC_Percentage  \n",
       "0                               173.01473                               12.26  \n",
       "1                               173.01473                               12.26  \n",
       "2                               173.01473                               12.26  \n",
       "3                                 2.55631                               12.26  \n",
       "4                                 2.55631                               12.26  \n",
       "...                                   ...                                 ...  \n",
       "2803                            133.15360                               18.71  \n",
       "2804                            133.15360                               18.71  \n",
       "2805                            112.73321                               18.71  \n",
       "2806                            112.73321                               18.71  \n",
       "2807                            112.73321                               18.71  \n",
       "\n",
       "[2808 rows x 8 columns]"
      ]
     },
     "execution_count": 3,
     "metadata": {},
     "output_type": "execute_result"
    }
   ],
   "source": [
    "final_df"
   ]
  },
  {
   "cell_type": "markdown",
   "id": "105bef35",
   "metadata": {},
   "source": [
    "# ADVANCED ANALYTICS"
   ]
  },
  {
   "cell_type": "markdown",
   "id": "85798323",
   "metadata": {},
   "source": [
    "# 1) CORRELATION"
   ]
  },
  {
   "cell_type": "code",
   "execution_count": null,
   "id": "94a9f286",
   "metadata": {},
   "outputs": [],
   "source": []
  },
  {
   "cell_type": "code",
   "execution_count": null,
   "id": "447915b0",
   "metadata": {},
   "outputs": [],
   "source": []
  },
  {
   "cell_type": "code",
   "execution_count": null,
   "id": "90bca7b8",
   "metadata": {},
   "outputs": [],
   "source": []
  },
  {
   "cell_type": "code",
   "execution_count": 4,
   "id": "39dc6e48",
   "metadata": {},
   "outputs": [
    {
     "name": "stdout",
     "output_type": "stream",
     "text": [
      "Pearson Correlation Matrix:\n",
      "                                     Financial_Flows_Clean_Energy_USD  \\\n",
      "Financial_Flows_Clean_Energy_USD                             1.000000   \n",
      "Electricity_Access_Percentage                                0.209236   \n",
      "Renewable_Capacity_Per_Capita_Watts                          0.085215   \n",
      "\n",
      "                                     Electricity_Access_Percentage  \\\n",
      "Financial_Flows_Clean_Energy_USD                          0.209236   \n",
      "Electricity_Access_Percentage                             1.000000   \n",
      "Renewable_Capacity_Per_Capita_Watts                       0.969214   \n",
      "\n",
      "                                     Renewable_Capacity_Per_Capita_Watts  \n",
      "Financial_Flows_Clean_Energy_USD                                0.085215  \n",
      "Electricity_Access_Percentage                                   0.969214  \n",
      "Renewable_Capacity_Per_Capita_Watts                             1.000000  \n",
      "\n",
      "Spearman Correlation Matrix:\n",
      "                                     Financial_Flows_Clean_Energy_USD  \\\n",
      "Financial_Flows_Clean_Energy_USD                             1.000000   \n",
      "Electricity_Access_Percentage                                0.209079   \n",
      "Renewable_Capacity_Per_Capita_Watts                          0.219780   \n",
      "\n",
      "                                     Electricity_Access_Percentage  \\\n",
      "Financial_Flows_Clean_Energy_USD                          0.209079   \n",
      "Electricity_Access_Percentage                             1.000000   \n",
      "Renewable_Capacity_Per_Capita_Watts                       0.998625   \n",
      "\n",
      "                                     Renewable_Capacity_Per_Capita_Watts  \n",
      "Financial_Flows_Clean_Energy_USD                                0.219780  \n",
      "Electricity_Access_Percentage                                   0.998625  \n",
      "Renewable_Capacity_Per_Capita_Watts                             1.000000  \n"
     ]
    },
    {
     "data": {
      "image/png": "[encoded data removed]",
      "text/plain": [
       "<Figure size 1000x800 with 2 Axes>"
      ]
     },
     "metadata": {},
     "output_type": "display_data"
    },
    {
     "data": {
      "image/png": "[encoded data removed]",
      "text/plain": [
       "<Figure size 1000x800 with 2 Axes>"
      ]
     },
     "metadata": {},
     "output_type": "display_data"
    }
   ],
   "source": [
    "# Filter the data for 'ALL' renewable technology type\n",
    "filtered_data = final_df[(final_df[\"Renewable_Technology_Type\"] == \"ALL\") & (final_df['Region'] == 'World') & (final_df['Area_Type'] == 'Allarea')]\n",
    "\n",
    "# Select relevant columns and drop NaN values\n",
    "correlation_data = filtered_data[[\n",
    "    \"Financial_Flows_Clean_Energy_USD\",\n",
    "    \"Electricity_Access_Percentage\",\n",
    "    \"Renewable_Capacity_Per_Capita_Watts\"\n",
    "]]\n",
    "\n",
    "# Calculate Pearson and Spearman correlations\n",
    "pearson_corr = correlation_data.corr(method=\"pearson\")\n",
    "spearman_corr = correlation_data.corr(method=\"spearman\")\n",
    "\n",
    "# Display correlations\n",
    "print(\"Pearson Correlation Matrix:\")\n",
    "print(pearson_corr)\n",
    "\n",
    "print(\"\\nSpearman Correlation Matrix:\")\n",
    "print(spearman_corr)\n",
    "\n",
    "# Heatmap for Pearson correlation\n",
    "plt.figure(figsize=(10, 8))\n",
    "sns.heatmap(pearson_corr, annot=True, cmap=\"coolwarm\", fmt=\".2f\")\n",
    "plt.title(\"Pearson Correlation Matrix\")\n",
    "plt.show()\n",
    "\n",
    "# Heatmap for Spearman correlation\n",
    "plt.figure(figsize=(10, 8))\n",
    "sns.heatmap(spearman_corr, annot=True, cmap=\"coolwarm\", fmt=\".2f\")\n",
    "plt.title(\"Spearman Correlation Matrix\")\n",
    "plt.show()"
   ]
  },
  {
   "cell_type": "code",
   "execution_count": null,
   "id": "73a10794",
   "metadata": {},
   "outputs": [],
   "source": []
  },
  {
   "cell_type": "code",
   "execution_count": null,
   "id": "54df1514",
   "metadata": {},
   "outputs": [],
   "source": []
  },
  {
   "cell_type": "code",
   "execution_count": null,
   "id": "41781260",
   "metadata": {},
   "outputs": [],
   "source": []
  },
  {
   "cell_type": "code",
   "execution_count": null,
   "id": "7bae977a",
   "metadata": {},
   "outputs": [],
   "source": []
  },
  {
   "cell_type": "code",
   "execution_count": null,
   "id": "71b11562",
   "metadata": {},
   "outputs": [],
   "source": []
  },
  {
   "cell_type": "code",
   "execution_count": null,
   "id": "b3769eb7",
   "metadata": {},
   "outputs": [],
   "source": []
  },
  {
   "cell_type": "code",
   "execution_count": null,
   "id": "0ea97f1d",
   "metadata": {},
   "outputs": [],
   "source": []
  },
  {
   "cell_type": "code",
   "execution_count": null,
   "id": "a6716e36",
   "metadata": {},
   "outputs": [],
   "source": []
  },
  {
   "cell_type": "code",
   "execution_count": null,
   "id": "bcad9f66",
   "metadata": {},
   "outputs": [],
   "source": []
  },
  {
   "cell_type": "code",
   "execution_count": null,
   "id": "2d46b28a",
   "metadata": {},
   "outputs": [],
   "source": []
  },
  {
   "cell_type": "code",
   "execution_count": null,
   "id": "e2faacd4",
   "metadata": {},
   "outputs": [],
   "source": []
  },
  {
   "cell_type": "code",
   "execution_count": null,
   "id": "7a55e1b3",
   "metadata": {},
   "outputs": [],
   "source": []
  },
  {
   "cell_type": "code",
   "execution_count": null,
   "id": "23d293c0",
   "metadata": {},
   "outputs": [],
   "source": []
  },
  {
   "cell_type": "code",
   "execution_count": null,
   "id": "bc7d416e",
   "metadata": {},
   "outputs": [],
   "source": []
  },
  {
   "cell_type": "code",
   "execution_count": null,
   "id": "625f0610",
   "metadata": {},
   "outputs": [],
   "source": []
  },
  {
   "cell_type": "code",
   "execution_count": null,
   "id": "22d22476",
   "metadata": {},
   "outputs": [],
   "source": []
  },
  {
   "cell_type": "markdown",
   "id": "f9b34a01",
   "metadata": {},
   "source": [
    "Next Step: Urban-Rural Divide Analysis\n",
    "Urban aur Rural divide ka analysis directly humare energy inequality wale objective ko address karega. Isme hum yeh dekhenge:\n",
    "\n",
    "Electricity Access: Urban aur Rural areas ke beech disparity kaisi evolve hui hai?\n",
    "Renewable Capacity: Kya renewable investments se rural areas ki access improve hui hai?\n",
    "Financial Flows: Kya financial flows ne urban-rural divide ko kam karne mein role play kiya hai?\n",
    "Proposal for Urban-Rural Divide Analysis\n",
    "Disparity Calculation:\n",
    "\n",
    "Ek metric define karte hain:\n",
    "Disparity\n",
    "=\n",
    "Electricity Access (Urban)\n",
    "−\n",
    "Electricity Access (Rural)\n",
    "Disparity=Electricity Access (Urban)−Electricity Access (Rural)\n",
    "Year-wise aur region-wise disparity plot karte hain.\n",
    "Trend Analysis:\n",
    "\n",
    "Check karte hain ki disparity kam hui hai ya nahi over time.\n",
    "Regression Model:\n",
    "\n",
    "Dependent Variable: Disparity (Urban - Rural)\n",
    "Independent Variables: Financial Flows, Renewable Capacity, Region/Year dummies."
   ]
  },
  {
   "cell_type": "markdown",
   "id": "17aa9104",
   "metadata": {},
   "source": [
    "Step 1: Calculate Disparity\n",
    "We'll calculate the disparity in electricity access between urban and rural areas year-wise. This is:\n",
    "\n",
    "Disparity\n",
    "=\n",
    "Electricity Access (Urban)\n",
    "−\n",
    "Electricity Access (Rural)\n",
    "\n",
    "\n",
    "Disparity=Electricity Access (Urban)−Electricity Access (Rural)\n",
    "\n",
    "Step 2: Trend Analysis\n",
    "\n",
    "We'll plot this disparity over time:\n",
    "\n",
    "A line chart to show how the disparity changes over the years.\n",
    "\n",
    "Separate regional plots to highlight region-wise disparities.\n",
    "\n",
    "Step 3: Regression Analysis\n",
    "\n",
    "Build a regression model to assess the impact of:\n",
    "\n",
    "\n",
    "Financial Flows on disparity reduction.\n",
    "\n",
    "Renewable Capacity on disparity reduction.\n",
    "\n",
    "Including year as a control variable to observe temporal trends.\n"
   ]
  },
  {
   "cell_type": "code",
   "execution_count": null,
   "id": "7df57a90",
   "metadata": {},
   "outputs": [],
   "source": []
  },
  {
   "cell_type": "markdown",
   "id": "8ea26d33",
   "metadata": {},
   "source": [
    "Steps for Calculating Disparity (Urban-Rural Divide)\n",
    "Filter the Data:\n",
    "\n",
    "We will include only 'ALL' in the Renewable_Technology_Type column to maintain consistency.\n",
    "Exclude rows where Region is World, India, or China, focusing solely on regional trends.\n",
    "Pivot Data:\n",
    "\n",
    "Create a pivot table where rows are Year and Region, columns are Area_Type (Urban and Rural), and values are Electricity_Access_Percentage.\n",
    "Calculate Disparity:\n",
    "\n",
    "Subtract Rural electricity access from Urban electricity access:\n",
    "Disparity =\n",
    "Urban Electricity Access\n",
    "−\n",
    "Rural Electricity Access\n",
    "Disparity=Urban Electricity Access−Rural Electricity Access\n",
    "Global and Regional Trends:\n",
    "\n",
    "Global Trend: Plot the average disparity over time across all regions.\n",
    "Regional Trends: Plot disparities region-wise for more localized insights."
   ]
  },
  {
   "cell_type": "code",
   "execution_count": null,
   "id": "344c4e61",
   "metadata": {},
   "outputs": [],
   "source": []
  },
  {
   "cell_type": "code",
   "execution_count": null,
   "id": "e717c6ec",
   "metadata": {},
   "outputs": [],
   "source": []
  },
  {
   "cell_type": "code",
   "execution_count": null,
   "id": "58b58cca",
   "metadata": {},
   "outputs": [],
   "source": []
  },
  {
   "cell_type": "code",
   "execution_count": 6,
   "id": "426dff00",
   "metadata": {},
   "outputs": [
    {
     "data": {
      "text/html": [
       "<div>\n",
       "<style scoped>\n",
       "    .dataframe tbody tr th:only-of-type {\n",
       "        vertical-align: middle;\n",
       "    }\n",
       "\n",
       "    .dataframe tbody tr th {\n",
       "        vertical-align: top;\n",
       "    }\n",
       "\n",
       "    .dataframe thead th {\n",
       "        text-align: right;\n",
       "    }\n",
       "</style>\n",
       "<table border=\"1\" class=\"dataframe\">\n",
       "  <thead>\n",
       "    <tr style=\"text-align: right;\">\n",
       "      <th></th>\n",
       "      <th>Region</th>\n",
       "      <th>Year</th>\n",
       "      <th>Electricity_Access_Percentage</th>\n",
       "      <th>Area_Type</th>\n",
       "      <th>Financial_Flows_Clean_Energy_USD</th>\n",
       "      <th>Renewable_Technology_Type</th>\n",
       "      <th>Renewable_Capacity_Per_Capita_Watts</th>\n",
       "      <th>Renewable_Share_in_TFEC_Percentage</th>\n",
       "    </tr>\n",
       "  </thead>\n",
       "  <tbody>\n",
       "    <tr>\n",
       "      <th>0</th>\n",
       "      <td>China</td>\n",
       "      <td>2010</td>\n",
       "      <td>99.7</td>\n",
       "      <td>Allarea</td>\n",
       "      <td>143.76</td>\n",
       "      <td>ALL</td>\n",
       "      <td>173.01473</td>\n",
       "      <td>12.26</td>\n",
       "    </tr>\n",
       "    <tr>\n",
       "      <th>1</th>\n",
       "      <td>China</td>\n",
       "      <td>2010</td>\n",
       "      <td>99.4</td>\n",
       "      <td>Rural</td>\n",
       "      <td>143.76</td>\n",
       "      <td>ALL</td>\n",
       "      <td>173.01473</td>\n",
       "      <td>12.26</td>\n",
       "    </tr>\n",
       "    <tr>\n",
       "      <th>2</th>\n",
       "      <td>China</td>\n",
       "      <td>2010</td>\n",
       "      <td>100.0</td>\n",
       "      <td>Urban</td>\n",
       "      <td>143.76</td>\n",
       "      <td>ALL</td>\n",
       "      <td>173.01473</td>\n",
       "      <td>12.26</td>\n",
       "    </tr>\n",
       "    <tr>\n",
       "      <th>3</th>\n",
       "      <td>China</td>\n",
       "      <td>2010</td>\n",
       "      <td>99.7</td>\n",
       "      <td>Allarea</td>\n",
       "      <td>71.17</td>\n",
       "      <td>BIOENERGY</td>\n",
       "      <td>2.55631</td>\n",
       "      <td>12.26</td>\n",
       "    </tr>\n",
       "    <tr>\n",
       "      <th>4</th>\n",
       "      <td>China</td>\n",
       "      <td>2010</td>\n",
       "      <td>99.4</td>\n",
       "      <td>Rural</td>\n",
       "      <td>71.17</td>\n",
       "      <td>BIOENERGY</td>\n",
       "      <td>2.55631</td>\n",
       "      <td>12.26</td>\n",
       "    </tr>\n",
       "    <tr>\n",
       "      <th>...</th>\n",
       "      <td>...</td>\n",
       "      <td>...</td>\n",
       "      <td>...</td>\n",
       "      <td>...</td>\n",
       "      <td>...</td>\n",
       "      <td>...</td>\n",
       "      <td>...</td>\n",
       "      <td>...</td>\n",
       "    </tr>\n",
       "    <tr>\n",
       "      <th>2803</th>\n",
       "      <td>World</td>\n",
       "      <td>2022</td>\n",
       "      <td>97.7</td>\n",
       "      <td>Urban</td>\n",
       "      <td>5333.07</td>\n",
       "      <td>SOLAR</td>\n",
       "      <td>133.15360</td>\n",
       "      <td>18.71</td>\n",
       "    </tr>\n",
       "    <tr>\n",
       "      <th>2804</th>\n",
       "      <td>World</td>\n",
       "      <td>2022</td>\n",
       "      <td>84.0</td>\n",
       "      <td>Rural</td>\n",
       "      <td>5333.07</td>\n",
       "      <td>SOLAR</td>\n",
       "      <td>133.15360</td>\n",
       "      <td>18.71</td>\n",
       "    </tr>\n",
       "    <tr>\n",
       "      <th>2805</th>\n",
       "      <td>World</td>\n",
       "      <td>2022</td>\n",
       "      <td>91.4</td>\n",
       "      <td>Allarea</td>\n",
       "      <td>1691.42</td>\n",
       "      <td>WIND</td>\n",
       "      <td>112.73321</td>\n",
       "      <td>18.71</td>\n",
       "    </tr>\n",
       "    <tr>\n",
       "      <th>2806</th>\n",
       "      <td>World</td>\n",
       "      <td>2022</td>\n",
       "      <td>97.7</td>\n",
       "      <td>Urban</td>\n",
       "      <td>1691.42</td>\n",
       "      <td>WIND</td>\n",
       "      <td>112.73321</td>\n",
       "      <td>18.71</td>\n",
       "    </tr>\n",
       "    <tr>\n",
       "      <th>2807</th>\n",
       "      <td>World</td>\n",
       "      <td>2022</td>\n",
       "      <td>84.0</td>\n",
       "      <td>Rural</td>\n",
       "      <td>1691.42</td>\n",
       "      <td>WIND</td>\n",
       "      <td>112.73321</td>\n",
       "      <td>18.71</td>\n",
       "    </tr>\n",
       "  </tbody>\n",
       "</table>\n",
       "<p>2808 rows × 8 columns</p>\n",
       "</div>"
      ],
      "text/plain": [
       "     Region  Year  Electricity_Access_Percentage Area_Type  \\\n",
       "0     China  2010                           99.7   Allarea   \n",
       "1     China  2010                           99.4     Rural   \n",
       "2     China  2010                          100.0     Urban   \n",
       "3     China  2010                           99.7   Allarea   \n",
       "4     China  2010                           99.4     Rural   \n",
       "...     ...   ...                            ...       ...   \n",
       "2803  World  2022                           97.7     Urban   \n",
       "2804  World  2022                           84.0     Rural   \n",
       "2805  World  2022                           91.4   Allarea   \n",
       "2806  World  2022                           97.7     Urban   \n",
       "2807  World  2022                           84.0     Rural   \n",
       "\n",
       "      Financial_Flows_Clean_Energy_USD Renewable_Technology_Type  \\\n",
       "0                               143.76                       ALL   \n",
       "1                               143.76                       ALL   \n",
       "2                               143.76                       ALL   \n",
       "3                                71.17                 BIOENERGY   \n",
       "4                                71.17                 BIOENERGY   \n",
       "...                                ...                       ...   \n",
       "2803                           5333.07                     SOLAR   \n",
       "2804                           5333.07                     SOLAR   \n",
       "2805                           1691.42                      WIND   \n",
       "2806                           1691.42                      WIND   \n",
       "2807                           1691.42                      WIND   \n",
       "\n",
       "      Renewable_Capacity_Per_Capita_Watts  Renewable_Share_in_TFEC_Percentage  \n",
       "0                               173.01473                               12.26  \n",
       "1                               173.01473                               12.26  \n",
       "2                               173.01473                               12.26  \n",
       "3                                 2.55631                               12.26  \n",
       "4                                 2.55631                               12.26  \n",
       "...                                   ...                                 ...  \n",
       "2803                            133.15360                               18.71  \n",
       "2804                            133.15360                               18.71  \n",
       "2805                            112.73321                               18.71  \n",
       "2806                            112.73321                               18.71  \n",
       "2807                            112.73321                               18.71  \n",
       "\n",
       "[2808 rows x 8 columns]"
      ]
     },
     "execution_count": 6,
     "metadata": {},
     "output_type": "execute_result"
    }
   ],
   "source": [
    "final_df"
   ]
  },
  {
   "cell_type": "code",
   "execution_count": null,
   "id": "11184782",
   "metadata": {},
   "outputs": [],
   "source": []
  },
  {
   "cell_type": "code",
   "execution_count": null,
   "id": "a2eea342",
   "metadata": {},
   "outputs": [],
   "source": []
  },
  {
   "cell_type": "code",
   "execution_count": 7,
   "id": "ec5a85f8",
   "metadata": {},
   "outputs": [
    {
     "data": {
      "image/png": "[encoded data removed]",
      "text/plain": [
       "<Figure size 1200x800 with 1 Axes>"
      ]
     },
     "metadata": {},
     "output_type": "display_data"
    }
   ],
   "source": [
    "# Filter the data for 'ALL' Renewable Technology and exclude 'World', 'India', 'China'\n",
    "filtered_data = final_df[\n",
    "    (final_df[\"Renewable_Technology_Type\"] == \"ALL\") &\n",
    "    (~final_df[\"Region\"].isin([\"World\", \"India\", \"China\"]))\n",
    "]\n",
    "\n",
    "# Pivot table for Urban and Rural electricity access\n",
    "disparity_data = filtered_data.pivot_table(\n",
    "    index=[\"Year\", \"Region\"],\n",
    "    columns=\"Area_Type\",\n",
    "    values=\"Electricity_Access_Percentage\"\n",
    ").reset_index()\n",
    "\n",
    "# Calculate Disparity\n",
    "disparity_data[\"Disparity\"] = disparity_data[\"Urban\"] - disparity_data[\"Rural\"]\n",
    "\n",
    "# Regional Trends: Urban-Rural Disparity Over Time\n",
    "plt.figure(figsize=(12, 8))\n",
    "sns.lineplot(\n",
    "    data=disparity_data, x=\"Year\", y=\"Disparity\", hue=\"Region\", palette=\"tab10\", ci=None\n",
    ")\n",
    "plt.title(\"Regional Urban-Rural Electricity Access Disparity Over Time\", fontsize=14)\n",
    "plt.xlabel(\"Year\", fontsize=12)\n",
    "plt.ylabel(\"Disparity in Electricity Access (Urban - Rural)\", fontsize=12)\n",
    "plt.legend(title=\"Region\", fontsize=10, bbox_to_anchor=(1.05, 1), loc='upper left')\n",
    "plt.grid(True, linestyle=\"--\", alpha=0.7)\n",
    "plt.tight_layout()\n",
    "plt.show()\n"
   ]
  },
  {
   "cell_type": "code",
   "execution_count": null,
   "id": "084e5db3",
   "metadata": {},
   "outputs": [],
   "source": []
  },
  {
   "cell_type": "code",
   "execution_count": null,
   "id": "3c2a61e7",
   "metadata": {},
   "outputs": [],
   "source": []
  },
  {
   "cell_type": "code",
   "execution_count": 8,
   "id": "692899d9",
   "metadata": {},
   "outputs": [
    {
     "data": {
      "image/png": "[encoded data removed]",
      "text/plain": [
       "<Figure size 1200x800 with 1 Axes>"
      ]
     },
     "metadata": {},
     "output_type": "display_data"
    }
   ],
   "source": [
    "# Filter the data for 'ALL' Renewable Technology and exclude 'Other Regions', 'India', 'China'\n",
    "filtered_data = final_df[\n",
    "    (final_df[\"Renewable_Technology_Type\"] == \"ALL\") &\n",
    "    (final_df[\"Region\"].isin([\"World\"]))\n",
    "]\n",
    "\n",
    "# Pivot table for Urban and Rural electricity access\n",
    "disparity_data = filtered_data.pivot_table(\n",
    "    index=[\"Year\", \"Region\"],\n",
    "    columns=\"Area_Type\",\n",
    "    values=\"Electricity_Access_Percentage\"\n",
    ").reset_index()\n",
    "\n",
    "# Calculate Disparity\n",
    "disparity_data[\"Disparity\"] = disparity_data[\"Urban\"] - disparity_data[\"Rural\"]\n",
    "\n",
    "# Regional Trends: Urban-Rural Disparity Over Time\n",
    "plt.figure(figsize=(12, 8))\n",
    "sns.lineplot(\n",
    "    data=disparity_data, x=\"Year\", y=\"Disparity\", hue=\"Region\", palette=\"tab10\", ci=None\n",
    ")\n",
    "plt.title(\"Global Urban-Rural Electricity Access Disparity Over Time\", fontsize=14)\n",
    "plt.xlabel(\"Year\", fontsize=12)\n",
    "plt.ylabel(\"Disparity in Electricity Access (Urban - Rural)\", fontsize=12)\n",
    "plt.grid(True, linestyle=\"--\", alpha=0.7)\n",
    "plt.tight_layout()\n",
    "plt.show()\n"
   ]
  },
  {
   "cell_type": "code",
   "execution_count": null,
   "id": "0b28be9e",
   "metadata": {},
   "outputs": [],
   "source": []
  },
  {
   "cell_type": "code",
   "execution_count": 9,
   "id": "9379b655",
   "metadata": {},
   "outputs": [
    {
     "data": {
      "image/png": "[encoded data removed]",
      "text/plain": [
       "<Figure size 1200x800 with 1 Axes>"
      ]
     },
     "metadata": {},
     "output_type": "display_data"
    }
   ],
   "source": [
    "# Filter the data for 'ALL' Renewable Technology and exclude 'Other Regions', World.\n",
    "filtered_data = final_df[\n",
    "    (final_df[\"Renewable_Technology_Type\"] == \"ALL\") &\n",
    "    (final_df[\"Region\"].isin([\"India\", \"China\"]))\n",
    "]\n",
    "\n",
    "# Pivot table for Urban and Rural electricity access\n",
    "disparity_data = filtered_data.pivot_table(\n",
    "    index=[\"Year\", \"Region\"],\n",
    "    columns=\"Area_Type\",\n",
    "    values=\"Electricity_Access_Percentage\"\n",
    ").reset_index()\n",
    "\n",
    "# Calculate Disparity\n",
    "disparity_data[\"Disparity\"] = disparity_data[\"Urban\"] - disparity_data[\"Rural\"]\n",
    "\n",
    "# Regional Trends: Urban-Rural Disparity Over Time\n",
    "plt.figure(figsize=(12, 8))\n",
    "sns.lineplot(\n",
    "    data=disparity_data, x=\"Year\", y=\"Disparity\", hue=\"Region\", palette=\"tab10\", ci=None\n",
    ")\n",
    "plt.title(\"Urban-Rural Electricity Access Disparity Over Time (China & India)\", fontsize=14)\n",
    "plt.xlabel(\"Year\", fontsize=12)\n",
    "plt.ylabel(\"Disparity in Electricity Access (Urban - Rural)\", fontsize=12)\n",
    "plt.grid(True, linestyle=\"--\", alpha=0.7)\n",
    "plt.tight_layout()\n",
    "plt.show()"
   ]
  },
  {
   "cell_type": "code",
   "execution_count": null,
   "id": "73e77bcd",
   "metadata": {},
   "outputs": [],
   "source": []
  },
  {
   "cell_type": "code",
   "execution_count": 17,
   "id": "4d984e31-4d35-4dbf-8ea8-963c56187243",
   "metadata": {},
   "outputs": [
    {
     "data": {
      "text/html": [
       "<div>\n",
       "<style scoped>\n",
       "    .dataframe tbody tr th:only-of-type {\n",
       "        vertical-align: middle;\n",
       "    }\n",
       "\n",
       "    .dataframe tbody tr th {\n",
       "        vertical-align: top;\n",
       "    }\n",
       "\n",
       "    .dataframe thead th {\n",
       "        text-align: right;\n",
       "    }\n",
       "</style>\n",
       "<table border=\"1\" class=\"dataframe\">\n",
       "  <thead>\n",
       "    <tr style=\"text-align: right;\">\n",
       "      <th>Area_Type</th>\n",
       "      <th>Year</th>\n",
       "      <th>Region</th>\n",
       "      <th>Allarea</th>\n",
       "      <th>Rural</th>\n",
       "      <th>Urban</th>\n",
       "      <th>Disparity</th>\n",
       "    </tr>\n",
       "  </thead>\n",
       "  <tbody>\n",
       "  </tbody>\n",
       "</table>\n",
       "</div>"
      ],
      "text/plain": [
       "Empty DataFrame\n",
       "Columns: [Year, Region, Allarea, Rural, Urban, Disparity]\n",
       "Index: []"
      ]
     },
     "execution_count": 17,
     "metadata": {},
     "output_type": "execute_result"
    }
   ],
   "source": [
    "disparity_data[disparity_data['Region'] == 'Southern Asia']"
   ]
  },
  {
   "cell_type": "code",
   "execution_count": 21,
   "id": "7384a7ef-e0c1-41ba-a622-41e842479726",
   "metadata": {},
   "outputs": [],
   "source": [
    "filtered_data = final_df[\n",
    "    (final_df[\"Renewable_Technology_Type\"] == \"ALL\") \n",
    "]\n",
    "\n",
    "# Pivot table for Urban and Rural electricity access\n",
    "disparity_data = filtered_data.pivot_table(\n",
    "    index=[\"Year\", \"Region\"],\n",
    "    columns=\"Area_Type\",\n",
    "    values=\"Electricity_Access_Percentage\"\n",
    ").reset_index()\n",
    "\n",
    "# Calculate Disparity\n",
    "disparity_data[\"Disparity\"] = disparity_data[\"Urban\"] - disparity_data[\"Rural\"]"
   ]
  },
  {
   "cell_type": "code",
   "execution_count": null,
   "id": "3e67d34a-b8f7-4e04-893d-e7c6ce174a26",
   "metadata": {},
   "outputs": [],
   "source": []
  },
  {
   "cell_type": "code",
   "execution_count": 22,
   "id": "9e6eae0e-ab75-4d55-9789-32c2270574c5",
   "metadata": {},
   "outputs": [
    {
     "data": {
      "text/html": [
       "<div>\n",
       "<style scoped>\n",
       "    .dataframe tbody tr th:only-of-type {\n",
       "        vertical-align: middle;\n",
       "    }\n",
       "\n",
       "    .dataframe tbody tr th {\n",
       "        vertical-align: top;\n",
       "    }\n",
       "\n",
       "    .dataframe thead th {\n",
       "        text-align: right;\n",
       "    }\n",
       "</style>\n",
       "<table border=\"1\" class=\"dataframe\">\n",
       "  <thead>\n",
       "    <tr style=\"text-align: right;\">\n",
       "      <th>Area_Type</th>\n",
       "      <th>Year</th>\n",
       "      <th>Region</th>\n",
       "      <th>Allarea</th>\n",
       "      <th>Rural</th>\n",
       "      <th>Urban</th>\n",
       "      <th>Disparity</th>\n",
       "    </tr>\n",
       "  </thead>\n",
       "  <tbody>\n",
       "    <tr>\n",
       "      <th>0</th>\n",
       "      <td>2010</td>\n",
       "      <td>China</td>\n",
       "      <td>99.7</td>\n",
       "      <td>99.4</td>\n",
       "      <td>100.0</td>\n",
       "      <td>0.6</td>\n",
       "    </tr>\n",
       "    <tr>\n",
       "      <th>1</th>\n",
       "      <td>2010</td>\n",
       "      <td>Eastern Asia</td>\n",
       "      <td>98.6</td>\n",
       "      <td>99.4</td>\n",
       "      <td>100.0</td>\n",
       "      <td>0.6</td>\n",
       "    </tr>\n",
       "    <tr>\n",
       "      <th>2</th>\n",
       "      <td>2010</td>\n",
       "      <td>Europe</td>\n",
       "      <td>99.6</td>\n",
       "      <td>99.5</td>\n",
       "      <td>99.7</td>\n",
       "      <td>0.2</td>\n",
       "    </tr>\n",
       "    <tr>\n",
       "      <th>3</th>\n",
       "      <td>2010</td>\n",
       "      <td>India</td>\n",
       "      <td>76.3</td>\n",
       "      <td>68.4</td>\n",
       "      <td>94.0</td>\n",
       "      <td>25.6</td>\n",
       "    </tr>\n",
       "    <tr>\n",
       "      <th>4</th>\n",
       "      <td>2010</td>\n",
       "      <td>South-Eastern Asia</td>\n",
       "      <td>88.6</td>\n",
       "      <td>81.3</td>\n",
       "      <td>97.8</td>\n",
       "      <td>16.5</td>\n",
       "    </tr>\n",
       "    <tr>\n",
       "      <th>...</th>\n",
       "      <td>...</td>\n",
       "      <td>...</td>\n",
       "      <td>...</td>\n",
       "      <td>...</td>\n",
       "      <td>...</td>\n",
       "      <td>...</td>\n",
       "    </tr>\n",
       "    <tr>\n",
       "      <th>112</th>\n",
       "      <td>2022</td>\n",
       "      <td>South-Eastern Asia</td>\n",
       "      <td>96.8</td>\n",
       "      <td>93.2</td>\n",
       "      <td>99.4</td>\n",
       "      <td>6.2</td>\n",
       "    </tr>\n",
       "    <tr>\n",
       "      <th>113</th>\n",
       "      <td>2022</td>\n",
       "      <td>Southern Asia</td>\n",
       "      <td>98.4</td>\n",
       "      <td>98.0</td>\n",
       "      <td>99.9</td>\n",
       "      <td>1.9</td>\n",
       "    </tr>\n",
       "    <tr>\n",
       "      <th>114</th>\n",
       "      <td>2022</td>\n",
       "      <td>Sub-Saharan Africa</td>\n",
       "      <td>51.0</td>\n",
       "      <td>29.8</td>\n",
       "      <td>81.0</td>\n",
       "      <td>51.2</td>\n",
       "    </tr>\n",
       "    <tr>\n",
       "      <th>115</th>\n",
       "      <td>2022</td>\n",
       "      <td>Western Asia</td>\n",
       "      <td>96.4</td>\n",
       "      <td>88.1</td>\n",
       "      <td>99.8</td>\n",
       "      <td>11.7</td>\n",
       "    </tr>\n",
       "    <tr>\n",
       "      <th>116</th>\n",
       "      <td>2022</td>\n",
       "      <td>World</td>\n",
       "      <td>91.4</td>\n",
       "      <td>84.0</td>\n",
       "      <td>97.7</td>\n",
       "      <td>13.7</td>\n",
       "    </tr>\n",
       "  </tbody>\n",
       "</table>\n",
       "<p>117 rows × 6 columns</p>\n",
       "</div>"
      ],
      "text/plain": [
       "Area_Type  Year              Region  Allarea  Rural  Urban  Disparity\n",
       "0          2010               China     99.7   99.4  100.0        0.6\n",
       "1          2010        Eastern Asia     98.6   99.4  100.0        0.6\n",
       "2          2010              Europe     99.6   99.5   99.7        0.2\n",
       "3          2010               India     76.3   68.4   94.0       25.6\n",
       "4          2010  South-Eastern Asia     88.6   81.3   97.8       16.5\n",
       "..          ...                 ...      ...    ...    ...        ...\n",
       "112        2022  South-Eastern Asia     96.8   93.2   99.4        6.2\n",
       "113        2022       Southern Asia     98.4   98.0   99.9        1.9\n",
       "114        2022  Sub-Saharan Africa     51.0   29.8   81.0       51.2\n",
       "115        2022        Western Asia     96.4   88.1   99.8       11.7\n",
       "116        2022               World     91.4   84.0   97.7       13.7\n",
       "\n",
       "[117 rows x 6 columns]"
      ]
     },
     "execution_count": 22,
     "metadata": {},
     "output_type": "execute_result"
    }
   ],
   "source": [
    "disparity_data"
   ]
  },
  {
   "cell_type": "code",
   "execution_count": 33,
   "id": "922687d8-4ced-4aaa-a40d-c05f46f92951",
   "metadata": {},
   "outputs": [],
   "source": [
    "x = disparity_data[disparity_data['Region'] == 'World']\n"
   ]
  },
  {
   "cell_type": "code",
   "execution_count": 34,
   "id": "8d94ba96-da5d-4ba7-a3ea-d822c0ee29d2",
   "metadata": {},
   "outputs": [
    {
     "data": {
      "text/html": [
       "<div>\n",
       "<style scoped>\n",
       "    .dataframe tbody tr th:only-of-type {\n",
       "        vertical-align: middle;\n",
       "    }\n",
       "\n",
       "    .dataframe tbody tr th {\n",
       "        vertical-align: top;\n",
       "    }\n",
       "\n",
       "    .dataframe thead th {\n",
       "        text-align: right;\n",
       "    }\n",
       "</style>\n",
       "<table border=\"1\" class=\"dataframe\">\n",
       "  <thead>\n",
       "    <tr style=\"text-align: right;\">\n",
       "      <th>Area_Type</th>\n",
       "      <th>Year</th>\n",
       "      <th>Region</th>\n",
       "      <th>Allarea</th>\n",
       "      <th>Rural</th>\n",
       "      <th>Urban</th>\n",
       "      <th>Disparity</th>\n",
       "    </tr>\n",
       "  </thead>\n",
       "  <tbody>\n",
       "    <tr>\n",
       "      <th>8</th>\n",
       "      <td>2010</td>\n",
       "      <td>World</td>\n",
       "      <td>83.6</td>\n",
       "      <td>72.9</td>\n",
       "      <td>95.9</td>\n",
       "      <td>23.0</td>\n",
       "    </tr>\n",
       "    <tr>\n",
       "      <th>17</th>\n",
       "      <td>2011</td>\n",
       "      <td>World</td>\n",
       "      <td>84.6</td>\n",
       "      <td>74.3</td>\n",
       "      <td>96.4</td>\n",
       "      <td>22.1</td>\n",
       "    </tr>\n",
       "    <tr>\n",
       "      <th>26</th>\n",
       "      <td>2012</td>\n",
       "      <td>World</td>\n",
       "      <td>85.1</td>\n",
       "      <td>74.9</td>\n",
       "      <td>96.5</td>\n",
       "      <td>21.6</td>\n",
       "    </tr>\n",
       "    <tr>\n",
       "      <th>35</th>\n",
       "      <td>2013</td>\n",
       "      <td>World</td>\n",
       "      <td>85.8</td>\n",
       "      <td>76.0</td>\n",
       "      <td>96.5</td>\n",
       "      <td>20.5</td>\n",
       "    </tr>\n",
       "    <tr>\n",
       "      <th>44</th>\n",
       "      <td>2014</td>\n",
       "      <td>World</td>\n",
       "      <td>86.3</td>\n",
       "      <td>76.3</td>\n",
       "      <td>96.6</td>\n",
       "      <td>20.3</td>\n",
       "    </tr>\n",
       "    <tr>\n",
       "      <th>53</th>\n",
       "      <td>2015</td>\n",
       "      <td>World</td>\n",
       "      <td>87.0</td>\n",
       "      <td>76.8</td>\n",
       "      <td>96.5</td>\n",
       "      <td>19.7</td>\n",
       "    </tr>\n",
       "    <tr>\n",
       "      <th>62</th>\n",
       "      <td>2016</td>\n",
       "      <td>World</td>\n",
       "      <td>88.2</td>\n",
       "      <td>79.4</td>\n",
       "      <td>96.9</td>\n",
       "      <td>17.5</td>\n",
       "    </tr>\n",
       "    <tr>\n",
       "      <th>71</th>\n",
       "      <td>2017</td>\n",
       "      <td>World</td>\n",
       "      <td>89.0</td>\n",
       "      <td>80.9</td>\n",
       "      <td>97.2</td>\n",
       "      <td>16.3</td>\n",
       "    </tr>\n",
       "    <tr>\n",
       "      <th>80</th>\n",
       "      <td>2018</td>\n",
       "      <td>World</td>\n",
       "      <td>89.9</td>\n",
       "      <td>81.9</td>\n",
       "      <td>97.1</td>\n",
       "      <td>15.2</td>\n",
       "    </tr>\n",
       "    <tr>\n",
       "      <th>89</th>\n",
       "      <td>2019</td>\n",
       "      <td>World</td>\n",
       "      <td>90.2</td>\n",
       "      <td>82.7</td>\n",
       "      <td>97.3</td>\n",
       "      <td>14.6</td>\n",
       "    </tr>\n",
       "    <tr>\n",
       "      <th>98</th>\n",
       "      <td>2020</td>\n",
       "      <td>World</td>\n",
       "      <td>90.5</td>\n",
       "      <td>83.0</td>\n",
       "      <td>97.3</td>\n",
       "      <td>14.3</td>\n",
       "    </tr>\n",
       "    <tr>\n",
       "      <th>107</th>\n",
       "      <td>2021</td>\n",
       "      <td>World</td>\n",
       "      <td>91.4</td>\n",
       "      <td>84.5</td>\n",
       "      <td>97.7</td>\n",
       "      <td>13.2</td>\n",
       "    </tr>\n",
       "    <tr>\n",
       "      <th>116</th>\n",
       "      <td>2022</td>\n",
       "      <td>World</td>\n",
       "      <td>91.4</td>\n",
       "      <td>84.0</td>\n",
       "      <td>97.7</td>\n",
       "      <td>13.7</td>\n",
       "    </tr>\n",
       "  </tbody>\n",
       "</table>\n",
       "</div>"
      ],
      "text/plain": [
       "Area_Type  Year Region  Allarea  Rural  Urban  Disparity\n",
       "8          2010  World     83.6   72.9   95.9       23.0\n",
       "17         2011  World     84.6   74.3   96.4       22.1\n",
       "26         2012  World     85.1   74.9   96.5       21.6\n",
       "35         2013  World     85.8   76.0   96.5       20.5\n",
       "44         2014  World     86.3   76.3   96.6       20.3\n",
       "53         2015  World     87.0   76.8   96.5       19.7\n",
       "62         2016  World     88.2   79.4   96.9       17.5\n",
       "71         2017  World     89.0   80.9   97.2       16.3\n",
       "80         2018  World     89.9   81.9   97.1       15.2\n",
       "89         2019  World     90.2   82.7   97.3       14.6\n",
       "98         2020  World     90.5   83.0   97.3       14.3\n",
       "107        2021  World     91.4   84.5   97.7       13.2\n",
       "116        2022  World     91.4   84.0   97.7       13.7"
      ]
     },
     "execution_count": 34,
     "metadata": {},
     "output_type": "execute_result"
    }
   ],
   "source": [
    "x"
   ]
  },
  {
   "cell_type": "code",
   "execution_count": null,
   "id": "e0877668-115c-4bb2-80f5-d1e758e90e92",
   "metadata": {},
   "outputs": [],
   "source": []
  },
  {
   "cell_type": "code",
   "execution_count": null,
   "id": "2aa1b51b-d94f-431b-8f3f-f4823999a3ec",
   "metadata": {},
   "outputs": [],
   "source": []
  },
  {
   "cell_type": "code",
   "execution_count": null,
   "id": "b32091ba-a1c3-4c3a-a4fa-13bf262b249f",
   "metadata": {},
   "outputs": [],
   "source": []
  },
  {
   "cell_type": "code",
   "execution_count": null,
   "id": "eac698ba",
   "metadata": {},
   "outputs": [],
   "source": []
  },
  {
   "cell_type": "code",
   "execution_count": 10,
   "id": "b288a580",
   "metadata": {},
   "outputs": [
    {
     "data": {
      "text/html": [
       "<div>\n",
       "<style scoped>\n",
       "    .dataframe tbody tr th:only-of-type {\n",
       "        vertical-align: middle;\n",
       "    }\n",
       "\n",
       "    .dataframe tbody tr th {\n",
       "        vertical-align: top;\n",
       "    }\n",
       "\n",
       "    .dataframe thead th {\n",
       "        text-align: right;\n",
       "    }\n",
       "</style>\n",
       "<table border=\"1\" class=\"dataframe\">\n",
       "  <thead>\n",
       "    <tr style=\"text-align: right;\">\n",
       "      <th></th>\n",
       "      <th>Region</th>\n",
       "      <th>Year</th>\n",
       "      <th>Electricity_Access_Percentage</th>\n",
       "      <th>Area_Type</th>\n",
       "      <th>Financial_Flows_Clean_Energy_USD</th>\n",
       "      <th>Renewable_Technology_Type</th>\n",
       "      <th>Renewable_Capacity_Per_Capita_Watts</th>\n",
       "      <th>Renewable_Share_in_TFEC_Percentage</th>\n",
       "    </tr>\n",
       "  </thead>\n",
       "  <tbody>\n",
       "    <tr>\n",
       "      <th>0</th>\n",
       "      <td>China</td>\n",
       "      <td>2010</td>\n",
       "      <td>99.7</td>\n",
       "      <td>Allarea</td>\n",
       "      <td>143.76</td>\n",
       "      <td>ALL</td>\n",
       "      <td>173.01473</td>\n",
       "      <td>12.26</td>\n",
       "    </tr>\n",
       "    <tr>\n",
       "      <th>1</th>\n",
       "      <td>China</td>\n",
       "      <td>2010</td>\n",
       "      <td>99.4</td>\n",
       "      <td>Rural</td>\n",
       "      <td>143.76</td>\n",
       "      <td>ALL</td>\n",
       "      <td>173.01473</td>\n",
       "      <td>12.26</td>\n",
       "    </tr>\n",
       "    <tr>\n",
       "      <th>2</th>\n",
       "      <td>China</td>\n",
       "      <td>2010</td>\n",
       "      <td>100.0</td>\n",
       "      <td>Urban</td>\n",
       "      <td>143.76</td>\n",
       "      <td>ALL</td>\n",
       "      <td>173.01473</td>\n",
       "      <td>12.26</td>\n",
       "    </tr>\n",
       "    <tr>\n",
       "      <th>3</th>\n",
       "      <td>China</td>\n",
       "      <td>2010</td>\n",
       "      <td>99.7</td>\n",
       "      <td>Allarea</td>\n",
       "      <td>71.17</td>\n",
       "      <td>BIOENERGY</td>\n",
       "      <td>2.55631</td>\n",
       "      <td>12.26</td>\n",
       "    </tr>\n",
       "    <tr>\n",
       "      <th>4</th>\n",
       "      <td>China</td>\n",
       "      <td>2010</td>\n",
       "      <td>99.4</td>\n",
       "      <td>Rural</td>\n",
       "      <td>71.17</td>\n",
       "      <td>BIOENERGY</td>\n",
       "      <td>2.55631</td>\n",
       "      <td>12.26</td>\n",
       "    </tr>\n",
       "    <tr>\n",
       "      <th>...</th>\n",
       "      <td>...</td>\n",
       "      <td>...</td>\n",
       "      <td>...</td>\n",
       "      <td>...</td>\n",
       "      <td>...</td>\n",
       "      <td>...</td>\n",
       "      <td>...</td>\n",
       "      <td>...</td>\n",
       "    </tr>\n",
       "    <tr>\n",
       "      <th>2803</th>\n",
       "      <td>World</td>\n",
       "      <td>2022</td>\n",
       "      <td>97.7</td>\n",
       "      <td>Urban</td>\n",
       "      <td>5333.07</td>\n",
       "      <td>SOLAR</td>\n",
       "      <td>133.15360</td>\n",
       "      <td>18.71</td>\n",
       "    </tr>\n",
       "    <tr>\n",
       "      <th>2804</th>\n",
       "      <td>World</td>\n",
       "      <td>2022</td>\n",
       "      <td>84.0</td>\n",
       "      <td>Rural</td>\n",
       "      <td>5333.07</td>\n",
       "      <td>SOLAR</td>\n",
       "      <td>133.15360</td>\n",
       "      <td>18.71</td>\n",
       "    </tr>\n",
       "    <tr>\n",
       "      <th>2805</th>\n",
       "      <td>World</td>\n",
       "      <td>2022</td>\n",
       "      <td>91.4</td>\n",
       "      <td>Allarea</td>\n",
       "      <td>1691.42</td>\n",
       "      <td>WIND</td>\n",
       "      <td>112.73321</td>\n",
       "      <td>18.71</td>\n",
       "    </tr>\n",
       "    <tr>\n",
       "      <th>2806</th>\n",
       "      <td>World</td>\n",
       "      <td>2022</td>\n",
       "      <td>97.7</td>\n",
       "      <td>Urban</td>\n",
       "      <td>1691.42</td>\n",
       "      <td>WIND</td>\n",
       "      <td>112.73321</td>\n",
       "      <td>18.71</td>\n",
       "    </tr>\n",
       "    <tr>\n",
       "      <th>2807</th>\n",
       "      <td>World</td>\n",
       "      <td>2022</td>\n",
       "      <td>84.0</td>\n",
       "      <td>Rural</td>\n",
       "      <td>1691.42</td>\n",
       "      <td>WIND</td>\n",
       "      <td>112.73321</td>\n",
       "      <td>18.71</td>\n",
       "    </tr>\n",
       "  </tbody>\n",
       "</table>\n",
       "<p>2808 rows × 8 columns</p>\n",
       "</div>"
      ],
      "text/plain": [
       "     Region  Year  Electricity_Access_Percentage Area_Type  \\\n",
       "0     China  2010                           99.7   Allarea   \n",
       "1     China  2010                           99.4     Rural   \n",
       "2     China  2010                          100.0     Urban   \n",
       "3     China  2010                           99.7   Allarea   \n",
       "4     China  2010                           99.4     Rural   \n",
       "...     ...   ...                            ...       ...   \n",
       "2803  World  2022                           97.7     Urban   \n",
       "2804  World  2022                           84.0     Rural   \n",
       "2805  World  2022                           91.4   Allarea   \n",
       "2806  World  2022                           97.7     Urban   \n",
       "2807  World  2022                           84.0     Rural   \n",
       "\n",
       "      Financial_Flows_Clean_Energy_USD Renewable_Technology_Type  \\\n",
       "0                               143.76                       ALL   \n",
       "1                               143.76                       ALL   \n",
       "2                               143.76                       ALL   \n",
       "3                                71.17                 BIOENERGY   \n",
       "4                                71.17                 BIOENERGY   \n",
       "...                                ...                       ...   \n",
       "2803                           5333.07                     SOLAR   \n",
       "2804                           5333.07                     SOLAR   \n",
       "2805                           1691.42                      WIND   \n",
       "2806                           1691.42                      WIND   \n",
       "2807                           1691.42                      WIND   \n",
       "\n",
       "      Renewable_Capacity_Per_Capita_Watts  Renewable_Share_in_TFEC_Percentage  \n",
       "0                               173.01473                               12.26  \n",
       "1                               173.01473                               12.26  \n",
       "2                               173.01473                               12.26  \n",
       "3                                 2.55631                               12.26  \n",
       "4                                 2.55631                               12.26  \n",
       "...                                   ...                                 ...  \n",
       "2803                            133.15360                               18.71  \n",
       "2804                            133.15360                               18.71  \n",
       "2805                            112.73321                               18.71  \n",
       "2806                            112.73321                               18.71  \n",
       "2807                            112.73321                               18.71  \n",
       "\n",
       "[2808 rows x 8 columns]"
      ]
     },
     "execution_count": 10,
     "metadata": {},
     "output_type": "execute_result"
    }
   ],
   "source": [
    "final_df"
   ]
  },
  {
   "cell_type": "code",
   "execution_count": null,
   "id": "5d75619e",
   "metadata": {},
   "outputs": [],
   "source": []
  },
  {
   "cell_type": "code",
   "execution_count": null,
   "id": "3418749f",
   "metadata": {},
   "outputs": [],
   "source": []
  },
  {
   "cell_type": "markdown",
   "id": "4475ad11",
   "metadata": {},
   "source": [
    "# Technology-Wise Contributions"
   ]
  },
  {
   "cell_type": "code",
   "execution_count": null,
   "id": "e6f6ac43",
   "metadata": {},
   "outputs": [],
   "source": []
  },
  {
   "cell_type": "code",
   "execution_count": 11,
   "id": "3310e798",
   "metadata": {},
   "outputs": [
    {
     "data": {
      "text/html": [
       "<div>\n",
       "<style scoped>\n",
       "    .dataframe tbody tr th:only-of-type {\n",
       "        vertical-align: middle;\n",
       "    }\n",
       "\n",
       "    .dataframe tbody tr th {\n",
       "        vertical-align: top;\n",
       "    }\n",
       "\n",
       "    .dataframe thead th {\n",
       "        text-align: right;\n",
       "    }\n",
       "</style>\n",
       "<table border=\"1\" class=\"dataframe\">\n",
       "  <thead>\n",
       "    <tr style=\"text-align: right;\">\n",
       "      <th></th>\n",
       "      <th>Renewable_Technology_Type</th>\n",
       "      <th>Avg_Financial_Flows_USD</th>\n",
       "      <th>Avg_Capacity_Per_Capita_Watts</th>\n",
       "      <th>Efficiency_Watts_Per_USD</th>\n",
       "    </tr>\n",
       "  </thead>\n",
       "  <tbody>\n",
       "    <tr>\n",
       "      <th>0</th>\n",
       "      <td>BIOENERGY</td>\n",
       "      <td>35.174712</td>\n",
       "      <td>11.769966</td>\n",
       "      <td>0.334614</td>\n",
       "    </tr>\n",
       "    <tr>\n",
       "      <th>1</th>\n",
       "      <td>GEOTHERMAL</td>\n",
       "      <td>59.224038</td>\n",
       "      <td>1.469090</td>\n",
       "      <td>0.024806</td>\n",
       "    </tr>\n",
       "    <tr>\n",
       "      <th>2</th>\n",
       "      <td>HYDROPOWER</td>\n",
       "      <td>482.363365</td>\n",
       "      <td>126.680320</td>\n",
       "      <td>0.262624</td>\n",
       "    </tr>\n",
       "    <tr>\n",
       "      <th>3</th>\n",
       "      <td>SOLAR</td>\n",
       "      <td>352.019423</td>\n",
       "      <td>51.987839</td>\n",
       "      <td>0.147685</td>\n",
       "    </tr>\n",
       "    <tr>\n",
       "      <th>4</th>\n",
       "      <td>WIND</td>\n",
       "      <td>92.634423</td>\n",
       "      <td>61.779896</td>\n",
       "      <td>0.666922</td>\n",
       "    </tr>\n",
       "  </tbody>\n",
       "</table>\n",
       "</div>"
      ],
      "text/plain": [
       "  Renewable_Technology_Type  Avg_Financial_Flows_USD  \\\n",
       "0                 BIOENERGY                35.174712   \n",
       "1                GEOTHERMAL                59.224038   \n",
       "2                HYDROPOWER               482.363365   \n",
       "3                     SOLAR               352.019423   \n",
       "4                      WIND                92.634423   \n",
       "\n",
       "   Avg_Capacity_Per_Capita_Watts  Efficiency_Watts_Per_USD  \n",
       "0                      11.769966                  0.334614  \n",
       "1                       1.469090                  0.024806  \n",
       "2                     126.680320                  0.262624  \n",
       "3                      51.987839                  0.147685  \n",
       "4                      61.779896                  0.666922  "
      ]
     },
     "execution_count": 11,
     "metadata": {},
     "output_type": "execute_result"
    }
   ],
   "source": [
    "# Filter out global data and \"ALL\" technology types\n",
    "filtered_data = final_df[\n",
    "    (final_df[\"Region\"] != \"World\") & \n",
    "    (final_df[\"Renewable_Technology_Type\"] != \"ALL\" ) &\n",
    "    (final_df[\"Renewable_Technology_Type\"] != \"MULTIPLE\" ) &\n",
    "    (final_df[\"Renewable_Technology_Type\"] != \"MARINE\" )\n",
    "]\n",
    "\n",
    "# Group by Renewable Technology Type\n",
    "technology_summary = filtered_data.groupby(\"Renewable_Technology_Type\").agg({\n",
    "    \"Financial_Flows_Clean_Energy_USD\": \"mean\",\n",
    "    \"Renewable_Capacity_Per_Capita_Watts\": \"mean\"\n",
    "}).reset_index()\n",
    "\n",
    "# Rename columns for better understanding\n",
    "technology_summary.rename(columns={\n",
    "    \"Financial_Flows_Clean_Energy_USD\": \"Avg_Financial_Flows_USD\",\n",
    "    \"Renewable_Capacity_Per_Capita_Watts\": \"Avg_Capacity_Per_Capita_Watts\"\n",
    "}, inplace=True)\n",
    "\n",
    "# Add an Efficiency column (Watts per USD invested)\n",
    "technology_summary[\"Efficiency_Watts_Per_USD\"] = (\n",
    "    technology_summary[\"Avg_Capacity_Per_Capita_Watts\"] / technology_summary[\"Avg_Financial_Flows_USD\"]\n",
    ")\n",
    "\n",
    "# Display the summary\n",
    "technology_summary"
   ]
  },
  {
   "cell_type": "code",
   "execution_count": null,
   "id": "1bf6b0d3",
   "metadata": {},
   "outputs": [],
   "source": []
  },
  {
   "cell_type": "code",
   "execution_count": null,
   "id": "8c120962",
   "metadata": {},
   "outputs": [],
   "source": []
  },
  {
   "cell_type": "code",
   "execution_count": 12,
   "id": "aa66c398",
   "metadata": {},
   "outputs": [
    {
     "data": {
      "image/png": "[encoded data removed]",
      "text/plain": [
       "<Figure size 1200x600 with 2 Axes>"
      ]
     },
     "metadata": {},
     "output_type": "display_data"
    }
   ],
   "source": [
    "fig, ax1 = plt.subplots(figsize=(12, 6))\n",
    "\n",
    "# Financial Flows on primary y-axis\n",
    "ax1.set_xlabel(\"Renewable Technology Type\")\n",
    "ax1.set_ylabel(\"Avg Financial Flows (USD)\", color=\"blue\")\n",
    "ax1.plot(technology_summary[\"Renewable_Technology_Type\"], technology_summary[\"Avg_Financial_Flows_USD\"], marker=\"o\", color=\"blue\", label=\"Avg Financial Flows (USD)\")\n",
    "ax1.tick_params(axis=\"y\", labelcolor=\"blue\")\n",
    "ax1.set_xticklabels(technology_summary[\"Renewable_Technology_Type\"], rotation=45)\n",
    "\n",
    "# Capacity on secondary y-axis\n",
    "ax2 = ax1.twinx()\n",
    "ax2.set_ylabel(\"Avg Capacity (Watts)\", color=\"red\")\n",
    "ax2.plot(technology_summary[\"Renewable_Technology_Type\"], technology_summary[\"Avg_Capacity_Per_Capita_Watts\"], marker=\"x\", color=\"red\", label=\"Avg Capacity (Watts)\")\n",
    "ax2.tick_params(axis=\"y\", labelcolor=\"red\")\n",
    "\n",
    "# Title and layout\n",
    "plt.title(\"Comparison of Financial Flows and Capacity by Renewable Technology\")\n",
    "fig.tight_layout()\n",
    "plt.show()\n"
   ]
  },
  {
   "cell_type": "code",
   "execution_count": null,
   "id": "8fe50329",
   "metadata": {},
   "outputs": [],
   "source": []
  },
  {
   "cell_type": "code",
   "execution_count": null,
   "id": "fff42f7d",
   "metadata": {},
   "outputs": [],
   "source": []
  },
  {
   "cell_type": "code",
   "execution_count": null,
   "id": "5324608a",
   "metadata": {},
   "outputs": [],
   "source": []
  },
  {
   "cell_type": "code",
   "execution_count": 13,
   "id": "bdeebd64",
   "metadata": {},
   "outputs": [
    {
     "data": {
      "image/png": "[encoded data removed]",
      "text/plain": [
       "<Figure size 1000x600 with 1 Axes>"
      ]
     },
     "metadata": {},
     "output_type": "display_data"
    }
   ],
   "source": [
    "plt.figure(figsize=(10, 6))\n",
    "plt.barh(technology_summary[\"Renewable_Technology_Type\"], technology_summary[\"Efficiency_Watts_Per_USD\"], color=\"green\", alpha=0.7)\n",
    "plt.title(\"Efficiency of Renewable Technologies (Watts/USD)\", fontsize=14)\n",
    "plt.xlabel(\"Efficiency (Watts/USD)\", fontsize=12)\n",
    "plt.ylabel(\"Renewable Technology Type\", fontsize=12)\n",
    "plt.grid(axis='x', alpha=0.6, linestyle='--')\n",
    "plt.tight_layout()\n",
    "plt.show()\n"
   ]
  },
  {
   "cell_type": "code",
   "execution_count": null,
   "id": "3a219d31",
   "metadata": {},
   "outputs": [],
   "source": []
  },
  {
   "cell_type": "code",
   "execution_count": null,
   "id": "541ef418",
   "metadata": {},
   "outputs": [],
   "source": []
  },
  {
   "cell_type": "code",
   "execution_count": null,
   "id": "7c9d748a",
   "metadata": {},
   "outputs": [],
   "source": []
  },
  {
   "cell_type": "code",
   "execution_count": null,
   "id": "0c4c7b78",
   "metadata": {},
   "outputs": [],
   "source": []
  },
  {
   "cell_type": "code",
   "execution_count": null,
   "id": "3553a09b",
   "metadata": {},
   "outputs": [],
   "source": []
  },
  {
   "cell_type": "code",
   "execution_count": null,
   "id": "6f51432e",
   "metadata": {},
   "outputs": [],
   "source": []
  },
  {
   "cell_type": "code",
   "execution_count": null,
   "id": "5ab8f312",
   "metadata": {},
   "outputs": [],
   "source": []
  },
  {
   "cell_type": "code",
   "execution_count": null,
   "id": "bf029b9e",
   "metadata": {},
   "outputs": [],
   "source": []
  },
  {
   "cell_type": "code",
   "execution_count": null,
   "id": "d28cdd9f",
   "metadata": {},
   "outputs": [],
   "source": []
  },
  {
   "cell_type": "code",
   "execution_count": null,
   "id": "99e26a81",
   "metadata": {},
   "outputs": [],
   "source": []
  },
  {
   "cell_type": "code",
   "execution_count": null,
   "id": "7e4753e1",
   "metadata": {},
   "outputs": [],
   "source": []
  },
  {
   "cell_type": "code",
   "execution_count": null,
   "id": "6cbd7597",
   "metadata": {},
   "outputs": [],
   "source": []
  },
  {
   "cell_type": "code",
   "execution_count": null,
   "id": "3a641a10",
   "metadata": {},
   "outputs": [],
   "source": []
  },
  {
   "cell_type": "code",
   "execution_count": null,
   "id": "674063c3",
   "metadata": {},
   "outputs": [],
   "source": []
  },
  {
   "cell_type": "code",
   "execution_count": null,
   "id": "d730e182",
   "metadata": {},
   "outputs": [],
   "source": []
  },
  {
   "cell_type": "code",
   "execution_count": null,
   "id": "07a9428c",
   "metadata": {},
   "outputs": [],
   "source": []
  },
  {
   "cell_type": "code",
   "execution_count": null,
   "id": "1758d62e",
   "metadata": {},
   "outputs": [],
   "source": []
  },
  {
   "cell_type": "code",
   "execution_count": null,
   "id": "379500ad",
   "metadata": {},
   "outputs": [],
   "source": []
  },
  {
   "cell_type": "code",
   "execution_count": null,
   "id": "ecf5c414",
   "metadata": {},
   "outputs": [],
   "source": []
  },
  {
   "cell_type": "code",
   "execution_count": null,
   "id": "a89dc6f0",
   "metadata": {},
   "outputs": [],
   "source": []
  },
  {
   "cell_type": "code",
   "execution_count": null,
   "id": "b8b31c71",
   "metadata": {},
   "outputs": [],
   "source": []
  },
  {
   "cell_type": "code",
   "execution_count": null,
   "id": "6ec47c69",
   "metadata": {},
   "outputs": [],
   "source": []
  },
  {
   "cell_type": "code",
   "execution_count": null,
   "id": "8555587b",
   "metadata": {},
   "outputs": [],
   "source": []
  },
  {
   "cell_type": "code",
   "execution_count": null,
   "id": "0b6e1036",
   "metadata": {},
   "outputs": [],
   "source": []
  },
  {
   "cell_type": "code",
   "execution_count": null,
   "id": "11c09679",
   "metadata": {},
   "outputs": [],
   "source": []
  },
  {
   "cell_type": "code",
   "execution_count": null,
   "id": "9dc33a41",
   "metadata": {},
   "outputs": [],
   "source": []
  },
  {
   "cell_type": "code",
   "execution_count": null,
   "id": "1971fb43",
   "metadata": {},
   "outputs": [],
   "source": []
  },
  {
   "cell_type": "code",
   "execution_count": null,
   "id": "420166d9",
   "metadata": {},
   "outputs": [],
   "source": []
  },
  {
   "cell_type": "code",
   "execution_count": null,
   "id": "a5bd1049",
   "metadata": {},
   "outputs": [],
   "source": []
  },
  {
   "cell_type": "code",
   "execution_count": null,
   "id": "f87cbd1d",
   "metadata": {},
   "outputs": [],
   "source": []
  },
  {
   "cell_type": "code",
   "execution_count": null,
   "id": "e692e777",
   "metadata": {},
   "outputs": [],
   "source": []
  },
  {
   "cell_type": "code",
   "execution_count": null,
   "id": "91405d53",
   "metadata": {},
   "outputs": [],
   "source": []
  },
  {
   "cell_type": "code",
   "execution_count": null,
   "id": "2c6c726b",
   "metadata": {},
   "outputs": [],
   "source": []
  },
  {
   "cell_type": "code",
   "execution_count": null,
   "id": "7431224a",
   "metadata": {},
   "outputs": [],
   "source": []
  },
  {
   "cell_type": "code",
   "execution_count": null,
   "id": "a0e23a9f",
   "metadata": {},
   "outputs": [],
   "source": []
  },
  {
   "cell_type": "code",
   "execution_count": null,
   "id": "d1bf02b3",
   "metadata": {},
   "outputs": [],
   "source": []
  },
  {
   "cell_type": "code",
   "execution_count": null,
   "id": "a0cc10a2",
   "metadata": {},
   "outputs": [],
   "source": []
  },
  {
   "cell_type": "code",
   "execution_count": null,
   "id": "2725ba22",
   "metadata": {},
   "outputs": [],
   "source": []
  },
  {
   "cell_type": "code",
   "execution_count": null,
   "id": "71c04308",
   "metadata": {},
   "outputs": [],
   "source": []
  },
  {
   "cell_type": "code",
   "execution_count": null,
   "id": "391b236f",
   "metadata": {},
   "outputs": [],
   "source": []
  },
  {
   "cell_type": "code",
   "execution_count": null,
   "id": "fd358c2a",
   "metadata": {},
   "outputs": [],
   "source": []
  },
  {
   "cell_type": "code",
   "execution_count": null,
   "id": "cbe3f9bd",
   "metadata": {},
   "outputs": [],
   "source": []
  },
  {
   "cell_type": "code",
   "execution_count": null,
   "id": "087f1405",
   "metadata": {},
   "outputs": [],
   "source": []
  },
  {
   "cell_type": "code",
   "execution_count": null,
   "id": "024a6664",
   "metadata": {},
   "outputs": [],
   "source": []
  },
  {
   "cell_type": "code",
   "execution_count": null,
   "id": "04f2384e",
   "metadata": {},
   "outputs": [],
   "source": []
  },
  {
   "cell_type": "code",
   "execution_count": null,
   "id": "b6a1b465",
   "metadata": {},
   "outputs": [],
   "source": []
  },
  {
   "cell_type": "code",
   "execution_count": null,
   "id": "dd7428ef",
   "metadata": {},
   "outputs": [],
   "source": []
  },
  {
   "cell_type": "code",
   "execution_count": null,
   "id": "aa4df71a",
   "metadata": {},
   "outputs": [],
   "source": []
  },
  {
   "cell_type": "code",
   "execution_count": null,
   "id": "0a69ce88",
   "metadata": {},
   "outputs": [],
   "source": []
  },
  {
   "cell_type": "code",
   "execution_count": null,
   "id": "9483446b",
   "metadata": {},
   "outputs": [],
   "source": []
  },
  {
   "cell_type": "code",
   "execution_count": null,
   "id": "7562d706",
   "metadata": {},
   "outputs": [],
   "source": []
  },
  {
   "cell_type": "code",
   "execution_count": null,
   "id": "2a138fc5",
   "metadata": {},
   "outputs": [],
   "source": []
  },
  {
   "cell_type": "code",
   "execution_count": null,
   "id": "db2d9dfb",
   "metadata": {},
   "outputs": [],
   "source": []
  },
  {
   "cell_type": "code",
   "execution_count": null,
   "id": "68ad0842",
   "metadata": {},
   "outputs": [],
   "source": []
  },
  {
   "cell_type": "code",
   "execution_count": null,
   "id": "65b3d5e3",
   "metadata": {},
   "outputs": [],
   "source": []
  },
  {
   "cell_type": "code",
   "execution_count": null,
   "id": "0f51e4a6",
   "metadata": {},
   "outputs": [],
   "source": []
  },
  {
   "cell_type": "code",
   "execution_count": null,
   "id": "76026869",
   "metadata": {},
   "outputs": [],
   "source": []
  },
  {
   "cell_type": "code",
   "execution_count": null,
   "id": "d868f3bf",
   "metadata": {},
   "outputs": [],
   "source": []
  },
  {
   "cell_type": "code",
   "execution_count": null,
   "id": "8b1a3d1a",
   "metadata": {},
   "outputs": [],
   "source": []
  },
  {
   "cell_type": "code",
   "execution_count": null,
   "id": "fa5b0743",
   "metadata": {},
   "outputs": [],
   "source": []
  },
  {
   "cell_type": "code",
   "execution_count": null,
   "id": "5767359c",
   "metadata": {},
   "outputs": [],
   "source": []
  },
  {
   "cell_type": "code",
   "execution_count": null,
   "id": "f2ad992d",
   "metadata": {},
   "outputs": [],
   "source": []
  },
  {
   "cell_type": "code",
   "execution_count": null,
   "id": "5bc19b21",
   "metadata": {},
   "outputs": [],
   "source": []
  },
  {
   "cell_type": "code",
   "execution_count": null,
   "id": "75f5ff8d",
   "metadata": {},
   "outputs": [],
   "source": []
  },
  {
   "cell_type": "code",
   "execution_count": null,
   "id": "b6b882a5",
   "metadata": {},
   "outputs": [],
   "source": []
  },
  {
   "cell_type": "code",
   "execution_count": null,
   "id": "d5f2671e",
   "metadata": {},
   "outputs": [],
   "source": []
  },
  {
   "cell_type": "code",
   "execution_count": null,
   "id": "1d58bf82",
   "metadata": {},
   "outputs": [],
   "source": []
  },
  {
   "cell_type": "code",
   "execution_count": null,
   "id": "e468efce",
   "metadata": {},
   "outputs": [],
   "source": []
  },
  {
   "cell_type": "code",
   "execution_count": null,
   "id": "632b7dc0",
   "metadata": {},
   "outputs": [],
   "source": []
  },
  {
   "cell_type": "code",
   "execution_count": null,
   "id": "53c1f9df",
   "metadata": {},
   "outputs": [],
   "source": []
  },
  {
   "cell_type": "code",
   "execution_count": null,
   "id": "3d132975",
   "metadata": {},
   "outputs": [],
   "source": []
  },
  {
   "cell_type": "code",
   "execution_count": null,
   "id": "529b05f7",
   "metadata": {},
   "outputs": [],
   "source": []
  },
  {
   "cell_type": "code",
   "execution_count": null,
   "id": "9dab2a6f",
   "metadata": {},
   "outputs": [],
   "source": []
  },
  {
   "cell_type": "code",
   "execution_count": null,
   "id": "9e0ede0e",
   "metadata": {},
   "outputs": [],
   "source": []
  },
  {
   "cell_type": "code",
   "execution_count": null,
   "id": "506a5517",
   "metadata": {},
   "outputs": [],
   "source": []
  },
  {
   "cell_type": "code",
   "execution_count": null,
   "id": "0a6e332e",
   "metadata": {},
   "outputs": [],
   "source": []
  },
  {
   "cell_type": "code",
   "execution_count": null,
   "id": "493932e1",
   "metadata": {},
   "outputs": [],
   "source": []
  },
  {
   "cell_type": "code",
   "execution_count": null,
   "id": "54c8dd71",
   "metadata": {},
   "outputs": [],
   "source": []
  },
  {
   "cell_type": "code",
   "execution_count": null,
   "id": "dce6bd9c",
   "metadata": {},
   "outputs": [],
   "source": []
  },
  {
   "cell_type": "code",
   "execution_count": null,
   "id": "3b1e9af9",
   "metadata": {},
   "outputs": [],
   "source": []
  },
  {
   "cell_type": "code",
   "execution_count": null,
   "id": "a7b82f5e",
   "metadata": {},
   "outputs": [],
   "source": []
  },
  {
   "cell_type": "code",
   "execution_count": null,
   "id": "7f802bf2",
   "metadata": {},
   "outputs": [],
   "source": []
  },
  {
   "cell_type": "code",
   "execution_count": null,
   "id": "b4bddc4e",
   "metadata": {},
   "outputs": [],
   "source": []
  },
  {
   "cell_type": "code",
   "execution_count": null,
   "id": "c9c6d9e8",
   "metadata": {},
   "outputs": [],
   "source": []
  },
  {
   "cell_type": "code",
   "execution_count": null,
   "id": "c90f43e9",
   "metadata": {},
   "outputs": [],
   "source": []
  },
  {
   "cell_type": "code",
   "execution_count": null,
   "id": "4dfc734a",
   "metadata": {},
   "outputs": [],
   "source": []
  },
  {
   "cell_type": "code",
   "execution_count": null,
   "id": "480c2697",
   "metadata": {},
   "outputs": [],
   "source": []
  },
  {
   "cell_type": "code",
   "execution_count": null,
   "id": "8ab82bc1",
   "metadata": {},
   "outputs": [],
   "source": []
  },
  {
   "cell_type": "code",
   "execution_count": null,
   "id": "9bd2b094",
   "metadata": {},
   "outputs": [],
   "source": []
  },
  {
   "cell_type": "code",
   "execution_count": null,
   "id": "70789fc5",
   "metadata": {},
   "outputs": [],
   "source": []
  },
  {
   "cell_type": "code",
   "execution_count": null,
   "id": "cf3e7e25",
   "metadata": {},
   "outputs": [],
   "source": []
  },
  {
   "cell_type": "code",
   "execution_count": null,
   "id": "ecab93e8",
   "metadata": {},
   "outputs": [],
   "source": []
  },
  {
   "cell_type": "code",
   "execution_count": null,
   "id": "0cfa4ada",
   "metadata": {},
   "outputs": [],
   "source": []
  },
  {
   "cell_type": "code",
   "execution_count": null,
   "id": "207e47c0",
   "metadata": {},
   "outputs": [],
   "source": []
  },
  {
   "cell_type": "code",
   "execution_count": null,
   "id": "ebfa5446",
   "metadata": {},
   "outputs": [],
   "source": []
  },
  {
   "cell_type": "code",
   "execution_count": null,
   "id": "8b8dda55",
   "metadata": {},
   "outputs": [],
   "source": []
  },
  {
   "cell_type": "code",
   "execution_count": null,
   "id": "6a76c8a2",
   "metadata": {},
   "outputs": [],
   "source": []
  },
  {
   "cell_type": "code",
   "execution_count": null,
   "id": "991d4c17",
   "metadata": {},
   "outputs": [],
   "source": []
  },
  {
   "cell_type": "code",
   "execution_count": null,
   "id": "c6d73754",
   "metadata": {},
   "outputs": [],
   "source": []
  },
  {
   "cell_type": "code",
   "execution_count": null,
   "id": "3e1b879a",
   "metadata": {},
   "outputs": [],
   "source": []
  },
  {
   "cell_type": "code",
   "execution_count": null,
   "id": "42e1223f",
   "metadata": {},
   "outputs": [],
   "source": []
  },
  {
   "cell_type": "code",
   "execution_count": null,
   "id": "d312e76d",
   "metadata": {},
   "outputs": [],
   "source": []
  },
  {
   "cell_type": "code",
   "execution_count": null,
   "id": "c98c28dd",
   "metadata": {},
   "outputs": [],
   "source": []
  },
  {
   "cell_type": "code",
   "execution_count": null,
   "id": "8fbd8d7d",
   "metadata": {},
   "outputs": [],
   "source": []
  },
  {
   "cell_type": "code",
   "execution_count": null,
   "id": "9277d79b",
   "metadata": {},
   "outputs": [],
   "source": []
  },
  {
   "cell_type": "code",
   "execution_count": null,
   "id": "4094b7cb",
   "metadata": {},
   "outputs": [],
   "source": []
  },
  {
   "cell_type": "code",
   "execution_count": null,
   "id": "2ad8dbe9",
   "metadata": {},
   "outputs": [],
   "source": []
  },
  {
   "cell_type": "code",
   "execution_count": null,
   "id": "f686c589",
   "metadata": {},
   "outputs": [],
   "source": []
  },
  {
   "cell_type": "code",
   "execution_count": null,
   "id": "715df435",
   "metadata": {},
   "outputs": [],
   "source": []
  },
  {
   "cell_type": "code",
   "execution_count": null,
   "id": "ca72c476",
   "metadata": {},
   "outputs": [],
   "source": []
  },
  {
   "cell_type": "code",
   "execution_count": null,
   "id": "e192c751",
   "metadata": {},
   "outputs": [],
   "source": []
  },
  {
   "cell_type": "code",
   "execution_count": null,
   "id": "30b8fa44",
   "metadata": {},
   "outputs": [],
   "source": []
  },
  {
   "cell_type": "code",
   "execution_count": null,
   "id": "065ee91a",
   "metadata": {},
   "outputs": [],
   "source": []
  },
  {
   "cell_type": "code",
   "execution_count": null,
   "id": "71c77430",
   "metadata": {},
   "outputs": [],
   "source": []
  },
  {
   "cell_type": "code",
   "execution_count": null,
   "id": "04611fa7",
   "metadata": {},
   "outputs": [],
   "source": []
  },
  {
   "cell_type": "code",
   "execution_count": null,
   "id": "e5205c4c",
   "metadata": {},
   "outputs": [],
   "source": []
  },
  {
   "cell_type": "code",
   "execution_count": null,
   "id": "4fe8f4d1",
   "metadata": {},
   "outputs": [],
   "source": []
  },
  {
   "cell_type": "code",
   "execution_count": null,
   "id": "3db9dd0e",
   "metadata": {},
   "outputs": [],
   "source": []
  },
  {
   "cell_type": "code",
   "execution_count": null,
   "id": "0ce81ec6",
   "metadata": {},
   "outputs": [],
   "source": []
  },
  {
   "cell_type": "code",
   "execution_count": null,
   "id": "a32abb20",
   "metadata": {},
   "outputs": [],
   "source": []
  },
  {
   "cell_type": "code",
   "execution_count": null,
   "id": "f56bd7bc",
   "metadata": {},
   "outputs": [],
   "source": []
  },
  {
   "cell_type": "code",
   "execution_count": null,
   "id": "696fdb58",
   "metadata": {},
   "outputs": [],
   "source": []
  },
  {
   "cell_type": "code",
   "execution_count": null,
   "id": "22ef2e4f",
   "metadata": {},
   "outputs": [],
   "source": []
  },
  {
   "cell_type": "code",
   "execution_count": null,
   "id": "a602f08f",
   "metadata": {},
   "outputs": [],
   "source": []
  },
  {
   "cell_type": "code",
   "execution_count": null,
   "id": "eb4d9839",
   "metadata": {},
   "outputs": [],
   "source": []
  },
  {
   "cell_type": "code",
   "execution_count": null,
   "id": "03056d91",
   "metadata": {},
   "outputs": [],
   "source": []
  },
  {
   "cell_type": "code",
   "execution_count": null,
   "id": "9597f0f5",
   "metadata": {},
   "outputs": [],
   "source": []
  },
  {
   "cell_type": "code",
   "execution_count": null,
   "id": "6b645a29",
   "metadata": {},
   "outputs": [],
   "source": []
  },
  {
   "cell_type": "code",
   "execution_count": null,
   "id": "0ce80ed1",
   "metadata": {},
   "outputs": [],
   "source": []
  },
  {
   "cell_type": "code",
   "execution_count": null,
   "id": "74aa306e",
   "metadata": {},
   "outputs": [],
   "source": []
  },
  {
   "cell_type": "code",
   "execution_count": null,
   "id": "36f3802e",
   "metadata": {},
   "outputs": [],
   "source": []
  },
  {
   "cell_type": "code",
   "execution_count": null,
   "id": "a7ff0185",
   "metadata": {},
   "outputs": [],
   "source": []
  },
  {
   "cell_type": "code",
   "execution_count": null,
   "id": "7e5d1c66",
   "metadata": {},
   "outputs": [],
   "source": []
  },
  {
   "cell_type": "code",
   "execution_count": null,
   "id": "4f04fb6c",
   "metadata": {},
   "outputs": [],
   "source": []
  },
  {
   "cell_type": "code",
   "execution_count": null,
   "id": "61ec52be",
   "metadata": {},
   "outputs": [],
   "source": []
  },
  {
   "cell_type": "code",
   "execution_count": null,
   "id": "72d1f4d8",
   "metadata": {},
   "outputs": [],
   "source": []
  },
  {
   "cell_type": "code",
   "execution_count": null,
   "id": "ed648028",
   "metadata": {},
   "outputs": [],
   "source": []
  },
  {
   "cell_type": "code",
   "execution_count": null,
   "id": "5dab236b",
   "metadata": {},
   "outputs": [],
   "source": []
  },
  {
   "cell_type": "code",
   "execution_count": null,
   "id": "2ea8f890",
   "metadata": {},
   "outputs": [],
   "source": []
  },
  {
   "cell_type": "code",
   "execution_count": null,
   "id": "e1cc8963",
   "metadata": {},
   "outputs": [],
   "source": []
  },
  {
   "cell_type": "code",
   "execution_count": null,
   "id": "5d9c92c4",
   "metadata": {},
   "outputs": [],
   "source": []
  },
  {
   "cell_type": "code",
   "execution_count": null,
   "id": "84e593b8",
   "metadata": {},
   "outputs": [],
   "source": []
  },
  {
   "cell_type": "code",
   "execution_count": null,
   "id": "38f4ec79",
   "metadata": {},
   "outputs": [],
   "source": []
  },
  {
   "cell_type": "code",
   "execution_count": null,
   "id": "689e7f78",
   "metadata": {},
   "outputs": [],
   "source": []
  },
  {
   "cell_type": "code",
   "execution_count": null,
   "id": "fc49d397",
   "metadata": {},
   "outputs": [],
   "source": []
  },
  {
   "cell_type": "code",
   "execution_count": null,
   "id": "ae2e1e33",
   "metadata": {},
   "outputs": [],
   "source": []
  },
  {
   "cell_type": "code",
   "execution_count": null,
   "id": "68d010f8",
   "metadata": {},
   "outputs": [],
   "source": []
  },
  {
   "cell_type": "code",
   "execution_count": null,
   "id": "7862b921",
   "metadata": {},
   "outputs": [],
   "source": []
  },
  {
   "cell_type": "code",
   "execution_count": null,
   "id": "31fc68ae",
   "metadata": {},
   "outputs": [],
   "source": []
  },
  {
   "cell_type": "code",
   "execution_count": null,
   "id": "605707c0",
   "metadata": {},
   "outputs": [],
   "source": []
  },
  {
   "cell_type": "code",
   "execution_count": null,
   "id": "17bbc593",
   "metadata": {},
   "outputs": [],
   "source": []
  },
  {
   "cell_type": "code",
   "execution_count": null,
   "id": "98b79668",
   "metadata": {},
   "outputs": [],
   "source": []
  },
  {
   "cell_type": "code",
   "execution_count": null,
   "id": "2e72eb8a",
   "metadata": {},
   "outputs": [],
   "source": []
  },
  {
   "cell_type": "code",
   "execution_count": null,
   "id": "a6b6a507",
   "metadata": {},
   "outputs": [],
   "source": []
  },
  {
   "cell_type": "code",
   "execution_count": null,
   "id": "30165590",
   "metadata": {},
   "outputs": [],
   "source": []
  },
  {
   "cell_type": "code",
   "execution_count": null,
   "id": "29e40a77",
   "metadata": {},
   "outputs": [],
   "source": []
  },
  {
   "cell_type": "code",
   "execution_count": null,
   "id": "e4c11c3d",
   "metadata": {},
   "outputs": [],
   "source": []
  },
  {
   "cell_type": "code",
   "execution_count": null,
   "id": "77fc6b54",
   "metadata": {},
   "outputs": [],
   "source": []
  },
  {
   "cell_type": "code",
   "execution_count": null,
   "id": "19294ca9",
   "metadata": {},
   "outputs": [],
   "source": []
  },
  {
   "cell_type": "code",
   "execution_count": null,
   "id": "61519803",
   "metadata": {},
   "outputs": [],
   "source": []
  },
  {
   "cell_type": "code",
   "execution_count": null,
   "id": "826a9be2",
   "metadata": {},
   "outputs": [],
   "source": []
  },
  {
   "cell_type": "code",
   "execution_count": null,
   "id": "c5157473",
   "metadata": {},
   "outputs": [],
   "source": []
  },
  {
   "cell_type": "code",
   "execution_count": null,
   "id": "c6fe7cbd",
   "metadata": {},
   "outputs": [],
   "source": []
  },
  {
   "cell_type": "code",
   "execution_count": null,
   "id": "a9126bda",
   "metadata": {},
   "outputs": [],
   "source": []
  },
  {
   "cell_type": "code",
   "execution_count": null,
   "id": "981cb927",
   "metadata": {},
   "outputs": [],
   "source": []
  },
  {
   "cell_type": "code",
   "execution_count": null,
   "id": "fe80cca7",
   "metadata": {},
   "outputs": [],
   "source": []
  },
  {
   "cell_type": "code",
   "execution_count": null,
   "id": "001543d4",
   "metadata": {},
   "outputs": [],
   "source": []
  },
  {
   "cell_type": "code",
   "execution_count": null,
   "id": "6f25c16b",
   "metadata": {},
   "outputs": [],
   "source": []
  },
  {
   "cell_type": "code",
   "execution_count": null,
   "id": "d26e21ef",
   "metadata": {},
   "outputs": [],
   "source": []
  },
  {
   "cell_type": "code",
   "execution_count": null,
   "id": "9132a24e",
   "metadata": {},
   "outputs": [],
   "source": []
  },
  {
   "cell_type": "code",
   "execution_count": null,
   "id": "c876bc28",
   "metadata": {},
   "outputs": [],
   "source": []
  },
  {
   "cell_type": "code",
   "execution_count": null,
   "id": "09c476a2",
   "metadata": {},
   "outputs": [],
   "source": []
  },
  {
   "cell_type": "code",
   "execution_count": null,
   "id": "ab35ee3e",
   "metadata": {},
   "outputs": [],
   "source": []
  },
  {
   "cell_type": "code",
   "execution_count": null,
   "id": "0fae4c52",
   "metadata": {},
   "outputs": [],
   "source": []
  },
  {
   "cell_type": "code",
   "execution_count": null,
   "id": "1d29dd0a",
   "metadata": {},
   "outputs": [],
   "source": []
  },
  {
   "cell_type": "code",
   "execution_count": null,
   "id": "1a1a530e",
   "metadata": {},
   "outputs": [],
   "source": []
  },
  {
   "cell_type": "code",
   "execution_count": null,
   "id": "204ebf6b",
   "metadata": {},
   "outputs": [],
   "source": []
  },
  {
   "cell_type": "code",
   "execution_count": null,
   "id": "5aa9a1b4",
   "metadata": {},
   "outputs": [],
   "source": []
  },
  {
   "cell_type": "code",
   "execution_count": null,
   "id": "f31cf215",
   "metadata": {},
   "outputs": [],
   "source": []
  },
  {
   "cell_type": "code",
   "execution_count": null,
   "id": "cfcf5a3b",
   "metadata": {},
   "outputs": [],
   "source": []
  },
  {
   "cell_type": "code",
   "execution_count": null,
   "id": "dbae3ee0",
   "metadata": {},
   "outputs": [],
   "source": []
  },
  {
   "cell_type": "code",
   "execution_count": null,
   "id": "a6c24c11",
   "metadata": {},
   "outputs": [],
   "source": []
  },
  {
   "cell_type": "code",
   "execution_count": null,
   "id": "3dd27167",
   "metadata": {},
   "outputs": [],
   "source": []
  },
  {
   "cell_type": "code",
   "execution_count": null,
   "id": "218b0dba",
   "metadata": {},
   "outputs": [],
   "source": []
  },
  {
   "cell_type": "code",
   "execution_count": null,
   "id": "cca58ee7",
   "metadata": {},
   "outputs": [],
   "source": []
  },
  {
   "cell_type": "code",
   "execution_count": null,
   "id": "704bb270",
   "metadata": {},
   "outputs": [],
   "source": []
  },
  {
   "cell_type": "code",
   "execution_count": null,
   "id": "4c99880f",
   "metadata": {},
   "outputs": [],
   "source": []
  },
  {
   "cell_type": "code",
   "execution_count": null,
   "id": "71a3a9d4",
   "metadata": {},
   "outputs": [],
   "source": []
  },
  {
   "cell_type": "code",
   "execution_count": null,
   "id": "d53cf2f6",
   "metadata": {},
   "outputs": [],
   "source": []
  },
  {
   "cell_type": "code",
   "execution_count": null,
   "id": "00101627",
   "metadata": {},
   "outputs": [],
   "source": []
  },
  {
   "cell_type": "code",
   "execution_count": null,
   "id": "cc324f4d",
   "metadata": {},
   "outputs": [],
   "source": []
  },
  {
   "cell_type": "code",
   "execution_count": null,
   "id": "36a19673",
   "metadata": {},
   "outputs": [],
   "source": []
  },
  {
   "cell_type": "code",
   "execution_count": null,
   "id": "380e99df",
   "metadata": {},
   "outputs": [],
   "source": []
  },
  {
   "cell_type": "code",
   "execution_count": null,
   "id": "0d30685a",
   "metadata": {},
   "outputs": [],
   "source": []
  },
  {
   "cell_type": "code",
   "execution_count": null,
   "id": "5b55c36e",
   "metadata": {},
   "outputs": [],
   "source": []
  },
  {
   "cell_type": "code",
   "execution_count": null,
   "id": "d7db1ce2",
   "metadata": {},
   "outputs": [],
   "source": []
  },
  {
   "cell_type": "code",
   "execution_count": null,
   "id": "1cff42f9",
   "metadata": {},
   "outputs": [],
   "source": []
  },
  {
   "cell_type": "code",
   "execution_count": null,
   "id": "43a9eddd",
   "metadata": {},
   "outputs": [],
   "source": []
  },
  {
   "cell_type": "code",
   "execution_count": null,
   "id": "ecdb38ea",
   "metadata": {},
   "outputs": [],
   "source": []
  },
  {
   "cell_type": "code",
   "execution_count": null,
   "id": "15aba5a2",
   "metadata": {},
   "outputs": [],
   "source": []
  },
  {
   "cell_type": "code",
   "execution_count": null,
   "id": "972dc32a",
   "metadata": {},
   "outputs": [],
   "source": []
  },
  {
   "cell_type": "code",
   "execution_count": null,
   "id": "03102ac8",
   "metadata": {},
   "outputs": [],
   "source": []
  },
  {
   "cell_type": "code",
   "execution_count": null,
   "id": "34bde709",
   "metadata": {},
   "outputs": [],
   "source": []
  },
  {
   "cell_type": "code",
   "execution_count": null,
   "id": "13442871",
   "metadata": {},
   "outputs": [],
   "source": []
  },
  {
   "cell_type": "code",
   "execution_count": null,
   "id": "f6cebc8b",
   "metadata": {},
   "outputs": [],
   "source": []
  },
  {
   "cell_type": "code",
   "execution_count": null,
   "id": "473544a4",
   "metadata": {},
   "outputs": [],
   "source": []
  },
  {
   "cell_type": "code",
   "execution_count": null,
   "id": "6a042733",
   "metadata": {},
   "outputs": [],
   "source": []
  },
  {
   "cell_type": "code",
   "execution_count": null,
   "id": "4448bd9f",
   "metadata": {},
   "outputs": [],
   "source": []
  },
  {
   "cell_type": "code",
   "execution_count": null,
   "id": "3b031ec8",
   "metadata": {},
   "outputs": [],
   "source": []
  },
  {
   "cell_type": "code",
   "execution_count": null,
   "id": "0880e98e",
   "metadata": {},
   "outputs": [],
   "source": []
  },
  {
   "cell_type": "code",
   "execution_count": null,
   "id": "fd1269f6",
   "metadata": {},
   "outputs": [],
   "source": []
  },
  {
   "cell_type": "code",
   "execution_count": null,
   "id": "00ee7422",
   "metadata": {},
   "outputs": [],
   "source": []
  },
  {
   "cell_type": "code",
   "execution_count": null,
   "id": "41912d98",
   "metadata": {},
   "outputs": [],
   "source": []
  },
  {
   "cell_type": "code",
   "execution_count": null,
   "id": "ee6798b1",
   "metadata": {},
   "outputs": [],
   "source": []
  },
  {
   "cell_type": "code",
   "execution_count": null,
   "id": "4911a911",
   "metadata": {},
   "outputs": [],
   "source": []
  },
  {
   "cell_type": "code",
   "execution_count": null,
   "id": "41a8542c",
   "metadata": {},
   "outputs": [],
   "source": []
  },
  {
   "cell_type": "code",
   "execution_count": null,
   "id": "31487551",
   "metadata": {},
   "outputs": [],
   "source": []
  },
  {
   "cell_type": "code",
   "execution_count": null,
   "id": "9eb021dc",
   "metadata": {},
   "outputs": [],
   "source": []
  },
  {
   "cell_type": "code",
   "execution_count": null,
   "id": "840620b8",
   "metadata": {},
   "outputs": [],
   "source": []
  },
  {
   "cell_type": "code",
   "execution_count": null,
   "id": "107234ac",
   "metadata": {},
   "outputs": [],
   "source": []
  },
  {
   "cell_type": "code",
   "execution_count": null,
   "id": "dce2adfe",
   "metadata": {},
   "outputs": [],
   "source": []
  },
  {
   "cell_type": "code",
   "execution_count": null,
   "id": "180cb99b",
   "metadata": {},
   "outputs": [],
   "source": []
  },
  {
   "cell_type": "code",
   "execution_count": null,
   "id": "5c980f0c",
   "metadata": {},
   "outputs": [],
   "source": []
  },
  {
   "cell_type": "code",
   "execution_count": null,
   "id": "03d2e4c6",
   "metadata": {},
   "outputs": [],
   "source": []
  },
  {
   "cell_type": "code",
   "execution_count": null,
   "id": "a65f0f91",
   "metadata": {},
   "outputs": [],
   "source": []
  },
  {
   "cell_type": "code",
   "execution_count": null,
   "id": "eff26215",
   "metadata": {},
   "outputs": [],
   "source": []
  },
  {
   "cell_type": "code",
   "execution_count": null,
   "id": "ba36db5c",
   "metadata": {},
   "outputs": [],
   "source": []
  },
  {
   "cell_type": "code",
   "execution_count": null,
   "id": "e7ab4d4d",
   "metadata": {},
   "outputs": [],
   "source": []
  },
  {
   "cell_type": "code",
   "execution_count": null,
   "id": "dc2b30ba",
   "metadata": {},
   "outputs": [],
   "source": []
  },
  {
   "cell_type": "code",
   "execution_count": null,
   "id": "894a7810",
   "metadata": {},
   "outputs": [],
   "source": []
  }
 ],
 "metadata": {
  "kernelspec": {
   "display_name": "Python 3 (ipykernel)",
   "language": "python",
   "name": "python3"
  },
  "language_info": {
   "codemirror_mode": {
    "name": "ipython",
    "version": 3
   },
   "file_extension": ".py",
   "mimetype": "text/x-python",
   "name": "python",
   "nbconvert_exporter": "python",
   "pygments_lexer": "ipython3",
   "version": "3.12.7"
  }
 },
 "nbformat": 4,
 "nbformat_minor": 5
}
